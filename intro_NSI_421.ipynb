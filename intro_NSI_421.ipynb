{
 "cells": [
  {
   "cell_type": "markdown",
   "metadata": {},
   "source": [
    "# Activité autour du jeu de 421"
   ]
  },
  {
   "cell_type": "markdown",
   "metadata": {},
   "source": [
    "Cette activité va vous permettre de découvrir une partie de l'activité d'un élève de première en spécialité NSI (ici essentiellement de la programmation en langage Python).\n",
    "\n",
    "Elle est assez guidée, vous n'aurez pas besoin de comprendre dès aujourd'hui toutes les commandes ni de les apprendre. Enfin, elle assez longue, vous n'aurez sans doute pas le temps de la finir.\n",
    "\n",
    "## Utilisation de ce document\n",
    "\n",
    "Ce document est partiellement interactif, il comporte essentiellement trois types de contenus :\n",
    "- du texte, comme celui que vous lisez actuellement ;\n",
    "- des zones de saisie de commandes Python, qui sont précédées de <span class=\"text-info\">In []</span>  ;\n",
    "- des zones où apparaissent les résultats de l'exécution des commandes Python, précédées de <span class=\"text-danger\">Out []</span>.\n",
    "\n",
    "Pour lancer l'exécution d'une (série de) commande(s), cliquez sur la zone concernée et tapez sur les touches \n",
    "`Ctrl` et `Entrée`.\n",
    "\n",
    "Essayons cela : cliquez sur la zone ci-dessous et exécutez-là (vous pouvez aussi la modifier)."
   ]
  },
  {
   "cell_type": "code",
   "execution_count": null,
   "metadata": {
    "scrolled": false
   },
   "outputs": [],
   "source": [
    "2+3"
   ]
  },
  {
   "cell_type": "markdown",
   "metadata": {},
   "source": [
    "## Les fonctions en Python\n",
    "Commençons par une fonction bien utile, la fonction `print()` qui affiche des messages :"
   ]
  },
  {
   "cell_type": "code",
   "execution_count": null,
   "metadata": {},
   "outputs": [],
   "source": [
    "print('Bonjour à tous !')\n",
    "print()\n",
    "print('et bon travail !')"
   ]
  },
  {
   "cell_type": "markdown",
   "metadata": {},
   "source": [
    "L'exemple ci-dessus montre que :\n",
    "* la fonction `print()` peut être utilisée avec des _paramètres_ ou _arguments_, comme dans `print('Bonjour à tous !')` ou `print('et bon travail !')`\n",
    "* ou sans argument, comme dans `print()`, qui produit alors une ligne vide.\n",
    "\n",
    "Les fonctions sont des mini-programmes. Le langage Python a des fonctions pré-définies, comme `print()` par exemple, mais nous pouvons aussi en créer de nouvelles. Elles se définissent alors avec le mot-clé\n",
    "`def` suivi du nom de la fonction puis de ses paramètres entre parenthèses.\n",
    "\n",
    "Voici un exemple de définition d'une nouvelle fonction sans paramètres :"
   ]
  },
  {
   "cell_type": "code",
   "execution_count": null,
   "metadata": {},
   "outputs": [],
   "source": [
    "def ma_nouvelle_fonction():\n",
    "    print('Salut,')\n",
    "    print('comment vas-tu ?')\n",
    "print('Bien, j\\'espère !')"
   ]
  },
  {
   "cell_type": "markdown",
   "metadata": {},
   "source": [
    "Mais, ça ne marche pas bien ?!?\n",
    "\n",
    "C'est normal, nous avons défini une nouvelle fonction mais nous n'avons pas demandé à Python de l'utiliser."
   ]
  },
  {
   "cell_type": "code",
   "execution_count": null,
   "metadata": {},
   "outputs": [],
   "source": [
    "ma_nouvelle_fonction()"
   ]
  },
  {
   "cell_type": "markdown",
   "metadata": {},
   "source": [
    "Notre fonction marche presque. Modifiez-là pour qu'elle affiche tout le texte attendu...\n",
    "Vous devrez re-exécuterer ensuite les deux dernières cellules."
   ]
  },
  {
   "cell_type": "markdown",
   "metadata": {},
   "source": [
    "Pour en finir avec les fonctions, voilà un exemple de fonction avec des paramètres :"
   ]
  },
  {
   "cell_type": "code",
   "execution_count": null,
   "metadata": {},
   "outputs": [],
   "source": [
    "def ma_deuxieme_fonction(nom, heure):\n",
    "    print('Salut', nom, ', il est', heure, 'heures...')"
   ]
  },
  {
   "cell_type": "code",
   "execution_count": null,
   "metadata": {},
   "outputs": [],
   "source": [
    "ma_deuxieme_fonction('Toto', 11)# vous pouvez changer les paramètres suivant votre convenance"
   ]
  },
  {
   "cell_type": "markdown",
   "metadata": {},
   "source": [
    "Au passage, vous avez remarqué la présence d'un texte précédé d'un # : il s'agit d'un commentaire, qui n'est pas lu par Python !"
   ]
  },
  {
   "attachments": {},
   "cell_type": "markdown",
   "metadata": {},
   "source": [
    "## Le jeu du 421\n",
    "Le 421 est un jeu qui se joue avec plusieurs dés. Nous simplifions ici à l'extrême ce jeu en disant qu'un joueur gagne s'il peut constituer un 421 en lançant trois dés (exemple : le premier dé donne un 2, le deuxième un 1 et le troisième un 4).\n",
    "<img src=\"https://amp.agoravox.fr/local/cache-vignettes/L500xH335/des-421-d785e.jpg\" width=\"200\">\n",
    "\n",
    "Enregistrez le fichier [421.py](http://prof.math.free.fr/nsi/421.py) dans votre dossier Travail (H:).\n",
    "\n",
    "Lancez le logiciel Thonny dont l'interface comprend deux grandes parties : l'éditeur et la console.\n",
    "<img src=\"thonny.png\" width=\"200\">\n",
    "\n",
    "Ouvrez le fichier 421.py à partir de Thonny puis cliquez sur le bouton de lecture vert (ou en tapant F5) pour que Thonny exécute les instructions."
   ]
  },
  {
   "cell_type": "markdown",
   "metadata": {},
   "source": [
    "### PARTIE 1\n",
    "Lisez la partie 1 du fichier 421.py. Cette première partie peut être lue rapidement : il s'agit de créer une fenêtre dans laquelle on dispose trois zones pour afficher trois dés."
   ]
  },
  {
   "cell_type": "markdown",
   "metadata": {},
   "source": [
    "### PARTIE 2\n",
    "#### Fonction dessiner_point()\n",
    "La fonction `dessiner_point()` dessine un point blanc au point de coordonnées (x,y) d'une zone qu'on a choisie. Encore une fois, vous n'avez pas forcément besoin de comprendre comment elle opère précisement.\n",
    "\n",
    "Testez-là en tapant dans la partie __console__ de Thonny (après les 3 chevrons `>>>`) :\n",
    "\n",
    "    dessiner_point(zone1, 30, 30)\n",
    "\n",
    "puis en appuyant sur `Entrée`.\n",
    "\n",
    "Vous pouvez aussi taper cette commande dans la partie __editeur__ à la fin du fichier et taper sur `F5`."
   ]
  },
  {
   "cell_type": "markdown",
   "metadata": {},
   "source": [
    "#### Fonctions `dessiner_de1()`, `dessiner_de2()`\n",
    "La fonction `dessiner_de1()` affiche un dé portant le numéro 1 dans la zone choisie.\n",
    "J'aurais pu appeler cette fonction `dessiner_dé1()` mais il est déconseillé d'utiliser des accents en informatique...\n",
    "\n",
    "Vous devinez à quoi sert la fonction `dessiner_de2()`...\n",
    "\n",
    "Testez ces deux fonctions, par exemple en tapant dans la console :\n",
    "\n",
    "    dessiner_de1(zone1)\n",
    "    dessiner_de2(zone3)\n",
    "\n",
    "Faîtes d'autres essais\n",
    "\n",
    "Un problème imprévu apparaît : lequel ?\n",
    "Pour remédier à ce problème, ajoutez la commande `zone.delete(\"all\")` là où cela est nécessaire...\n",
    "\n",
    "Testez à nouveau ces deux fonctions."
   ]
  },
  {
   "cell_type": "markdown",
   "metadata": {},
   "source": [
    "#### Fonctions `dessiner_de3()`, etc.\n",
    "\n",
    "Ecrivez maintenant les fonctions `dessiner_de3()`, etc.\n",
    "\n",
    "Testez-les en plaçant des dés dans les trois zones."
   ]
  },
  {
   "cell_type": "markdown",
   "metadata": {},
   "source": [
    "#### Fonction `dessiner_de()`\n",
    "\n",
    "Vous avez du remarquer que les six fonctions ont beaucoup de code en commun...\n",
    "\n",
    "Essayez de compléter la fonction `dessiner_de(nombre)` qui remplace les six fonctions précédentes : quand on tapera par exemple `dessiner_de(zone2, 5)`, un dé avec un numéro 5 apparaitra dans la zone 2.\n",
    "\n",
    "Bien sûr, testez-là, avec par exemple :\n",
    "\n",
    "    dessiner_de(zone2, 3)\n",
    "    dessiner_de(zone1, 6)\n",
    "    dessiner_de(zone3, 1)\n",
    "vous pouvez aussi dessiner un _421_ : ![421](421.png)\n",
    "\n"
   ]
  },
  {
   "cell_type": "markdown",
   "metadata": {},
   "source": [
    "#### Travail par deux\n",
    "Imaginons que l'utilisation de la fonction `dessiner_point()` soit coûteuse (en temps, en argent).\n",
    "\n",
    "Sur papier, proposez une ré-organisation de la fonction `dessiner_de()` qui utilise le moins de fois possible la fonction `dessiner_point()`. \n",
    "\n",
    "Vous pourrez dessiner un schéma de ce genre : \n",
    "\n",
    "<img src=\"http://python-liesse.enseeiht.fr/cours/_images/Organigramme-SiSinon.png\" width=\"200\">\n",
    "\n",
    "L'un d'entre vous viendra éventuellement présenter cette ré-organisation au tableau."
   ]
  },
  {
   "cell_type": "markdown",
   "metadata": {},
   "source": [
    "### PARTIE 3 : au hasard...\n",
    "\n",
    "Recherchez sur internet quelle est la commande Python qui permet de générer un nombre au hasard entre 1 et 6.\n",
    "\n",
    "Testez cette commande plusieurs fois dans la cellule ci-dessous (ou dans la console de Thonny) :"
   ]
  },
  {
   "cell_type": "code",
   "execution_count": null,
   "metadata": {},
   "outputs": [],
   "source": []
  },
  {
   "cell_type": "markdown",
   "metadata": {},
   "source": [
    "#### Fonction `lancer_trois_des()`\n",
    "\n",
    "Nous voulons maintenant que l'ordinateur choisisse trois nombres et affiche les dés correspondants.\n",
    "\n",
    "Copiez-collez la fonction suivante dans Thonny, après ### PARTIE 3 ###\n",
    "\n",
    "    def lancer_trois_des():\n",
    "        nombre1 = ... \n",
    "        dessiner_de(zone1, nombre1)\n",
    "        #suite de la fonction à coder\n",
    "\n",
    "Remplacez les ... par la commande qui génère un nombre au hasard\n",
    "\n",
    "Terminez ensuite cette fonction puis testez-là dans Thonny.\n",
    "\n",
    "Difficile d'obtenir un 421 n'est-ce-pas ?"
   ]
  },
  {
   "cell_type": "markdown",
   "metadata": {},
   "source": [
    "### PARTIE 4 : test de présence d'un 421\n",
    "#### Fonction `est_421()`\n",
    "Nous voulons écrire une fonction `est_421()` qui dit si une série de 3 nombres constitue un 421.\n",
    "\n",
    "Observez dans Thonny la fonction `est_42()`, qui regarde si on peut former le nombre 42 avec les nombres _de1_ et _de2_.\n",
    "\n",
    "Testez cette fonction, avec par exemple :\n",
    "\n",
    "    est_42(2, 5)\n",
    "    est_42(4, 2)\n",
    "    est_42(2, 4)\n",
    "\n",
    "Modifiez-là ensuite une fonction `est_421()`, que vous testerez bien sûr.\n"
   ]
  },
  {
   "cell_type": "markdown",
   "metadata": {},
   "source": [
    "#### Une autre fonction `est_421()`\n",
    "Vérifiez que de toutes les combinaisons de trois dés, la combinaison 421 est la seule dont la somme des carrés des trois dés est égale à 21.\n",
    "\n",
    "Déduisez-en une autre fonction `est_421()` (vous pourrez l'appeler `est_421b()`)."
   ]
  },
  {
   "cell_type": "markdown",
   "metadata": {},
   "source": [
    "#### Lancer aléatoire et test\n",
    "\n",
    "Ajoutez \n",
    "\n",
    "    return(nombre1, nombre2, nombre3) \n",
    "    \n",
    "en dernière instruction de la fonction `lancer_trois_des()` (ce qui permet de récupérer les valeurs des dés choisis par l'ordinateur).\n",
    "\n",
    "Vous pouvez maintenant exécuter en console :\n",
    "\n",
    "    choix = lancer_trois_des()\n",
    "qui exécute la fonction `lancer_trois_des()` et met les trois numéros dans la variable `choix`.\n",
    "\n",
    "Pour voir, par exemple, le premier dé choisi par l'ordinateur, tapez :\n",
    "\n",
    "    choix[0]\n",
    "Enfin, tapez :\n",
    "\n",
    "    est_421(choix[0], choix[1], choix[2])\n",
    "pour tester si la machine a bien tiré un 421.\n",
    "\n",
    "\n",
    "Autre modification pour la suite : dans votre fonction `est_421()`, remplacez `print(\"Gagné ! C'est bien un 421.\")` par `return True` et `print(\"Perdu... Ce n'est pas un 421.\")` par `return False`."
   ]
  },
  {
   "cell_type": "markdown",
   "metadata": {},
   "source": [
    "### PARTIE 5 : Utilisation de boucles\n",
    "Les boucles permettent de répéter un grand nombre de fois des instructions.\n",
    "\n",
    "Testez l'instruction ci-dessous :"
   ]
  },
  {
   "cell_type": "code",
   "execution_count": null,
   "metadata": {},
   "outputs": [],
   "source": [
    "for i in range(20):\n",
    "    print('Bonjour !')"
   ]
  },
  {
   "cell_type": "code",
   "execution_count": null,
   "metadata": {},
   "outputs": [],
   "source": [
    "for i in range(10):\n",
    "    print('Le carré de',i,'est',i**2)\n",
    "print('Fini !')"
   ]
  },
  {
   "cell_type": "markdown",
   "metadata": {},
   "source": [
    "Remarquez encore une fois l'importance de l'indentation : la commande `print('Fini !')` n'est pas dans la boucle `for` donc ne s'exécute qu'une fois."
   ]
  },
  {
   "cell_type": "markdown",
   "metadata": {},
   "source": [
    "Nous allons utiliser les boucles pour plusieurs choses :\n",
    "* animer le lancer d'un dé ;\n",
    "* estimer le nombre de chances d'avoir un 421 (sur 100 lancers par exemple) ;\n",
    "* relancer les dés jusqu'à ce qu'on obtienne un 421."
   ]
  },
  {
   "cell_type": "markdown",
   "metadata": {},
   "source": [
    "#### Animation du lancer de trois dés\n",
    "\n",
    "Nous aimerions créer une animation comme la suivante, par exemple avec 5 lancers de trois dés successives.\n",
    "![lancers](lancers.gif)\n",
    "\n",
    "Utilisez une boucle `for` pour réaliser cela. Il vous faudra :\n",
    "* utiliser la commande `fen.update()` pour que l'affichage soit mis à jour entre chacun des 5 lancers ; \n",
    "* ajouter la commande `from time import sleep` en début du fichier puis placer la commande `sleep(1)` au bon endroit pour mettre un délai d'une seconde entre chaque lancer.\n",
    "Vous pourrez mettre cette boucle dans une fonction `animer_des()`.\n"
   ]
  },
  {
   "cell_type": "markdown",
   "metadata": {},
   "source": [
    "#### Nombre de chances d'avoir un 421 sur 100 lancers\n",
    "\n",
    "* Copiez-collez la fonction suivante et essayez de la compléter :\n",
    "\n",
    "    def nombre_de_421():\n",
    "        nb = 0\n",
    "        for i in range(...):\n",
    "            choix = ...\n",
    "            if est_421(...):\n",
    "                nb = ...\n",
    "        print(\"Il y a environ\", nb, \"chances sur 100 d'avoir un 421 !\")\n",
    "\n",
    "* Essayez d'améliorer la précision du résultat en faisant plus que 100 lancers."
   ]
  },
  {
   "cell_type": "markdown",
   "metadata": {},
   "source": [
    "#### Lancers jusqu'à obtenir un 421\n",
    "Cette fois-ci, nous ne savons pas combien de lancers nous allons devoir faire.\n",
    "\n",
    "Dans ce cas, il faut utiliser une boucle _Tant que_ ou `while` en anglais.\n",
    "\n",
    "En voici un exemple :"
   ]
  },
  {
   "cell_type": "code",
   "execution_count": null,
   "metadata": {},
   "outputs": [],
   "source": [
    "i = 0\n",
    "while 2**i < 1000:\n",
    "    print(\"2 puissance \", i, \"=\", 2**i)\n",
    "    i = i+1"
   ]
  },
  {
   "cell_type": "markdown",
   "metadata": {},
   "source": [
    "Cette commande affiche les puissances de 2 __tant qu'elles__ sont inférieures à 1000.\n",
    "\n",
    "Essayez d'écrire une fonction `lancer_jusqu_a_421()` qui fait des lancers tant qu'on n'a pas obtenu un 421 (il serait bien que ces lancers s'affichent...)."
   ]
  }
 ],
 "metadata": {
  "jupytext": {
   "cell_metadata_filter": "-all",
   "notebook_metadata_filter": "-all",
   "text_representation": {
    "extension": ".md",
    "format_name": "markdown"
   }
  },
  "kernelspec": {
   "display_name": "Python 3",
   "language": "python",
   "name": "python3"
  },
  "language_info": {
   "codemirror_mode": {
    "name": "ipython",
    "version": 3
   },
   "file_extension": ".py",
   "mimetype": "text/x-python",
   "name": "python",
   "nbconvert_exporter": "python",
   "pygments_lexer": "ipython3",
   "version": "3.6.9"
  }
 },
 "nbformat": 4,
 "nbformat_minor": 4
}
