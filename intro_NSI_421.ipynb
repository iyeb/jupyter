{
 "cells": [
  {
   "cell_type": "markdown",
   "metadata": {},
   "source": [
    "# Activité autour du jeu de 421"
   ]
  },
  {
   "cell_type": "markdown",
   "metadata": {},
   "source": [
    "Cette activité va vous permettre de découvrir une partie de l'activité d'un élève de première en spécialité NSI (ici essentiellement de la programmation en langage Python).\n",
    "\n",
    "Elle est assez guidée, vous n'aurez pas besoin de comprendre dès aujourd'hui toutes les commandes ni de les apprendre.\n",
    "\n",
    "## Utilisation de ce document\n",
    "\n",
    "Ce document est interactif, il comporte essentiellement trois types de contenus :\n",
    "- du texte, comme celui que vous lisez actuellement ;\n",
    "- des zones de saisie de commandes Python, qui sont précédées de In [] ;\n",
    "- des zones où apparaissent les résultats de l'exécution des commandes Python, précédées de Out [].\n",
    "\n",
    "Pour lancer l'exécution d'une (série de) commande(s), cliquez sur la zone concernée et tapez sur les touches \n",
    "`Ctrl` et `Entrée`.\n",
    "\n",
    "Essayons cela : cliquez sur la zone ci-dessous et exécutez-là."
   ]
  },
  {
   "cell_type": "code",
   "execution_count": 10,
   "metadata": {
    "scrolled": false
   },
   "outputs": [
    {
     "data": {
      "text/plain": [
       "5"
      ]
     },
     "execution_count": 10,
     "metadata": {},
     "output_type": "execute_result"
    }
   ],
   "source": [
    "2+3"
   ]
  },
  {
   "cell_type": "markdown",
   "metadata": {},
   "source": [
    "Un autre essai :"
   ]
  },
  {
   "cell_type": "code",
   "execution_count": 11,
   "metadata": {},
   "outputs": [
    {
     "name": "stdout",
     "output_type": "stream",
     "text": [
      "Bonjour à tous !\n"
     ]
    }
   ],
   "source": [
    "print('Bonjour à tous !')"
   ]
  },
  {
   "cell_type": "code",
   "execution_count": 8,
   "metadata": {},
   "outputs": [],
   "source": [
    "%gui tk\n",
    "from tkinter import *\n",
    "\n",
    "# création d'une fenêtre graphique\n",
    "fen=Tk()\n",
    "fen.title('Tirage de trois dés')\n",
    "\n",
    "zone1=Canvas(fen,bg='dark gray',height=60, width=60)\n",
    "zone1.pack(side = LEFT)\n",
    "\n",
    "zone2=Canvas(fen,bg='dark gray',height=60, width=60)\n",
    "zone2.pack(side = LEFT)\n",
    "\n",
    "zone3=Canvas(fen,bg='dark gray',height=60, width=60)\n",
    "zone3.pack(side = LEFT)\n",
    "\n",
    "\n",
    "def dessiner_point(zone_choisie, x, y):\n",
    "    zone_choisie.create_oval(x-8, y-8, x+8, y+8, fill='white')\n",
    "    #important : remarquez l'espace vide avant la commande `zone_choisie...`\n",
    "    #qui signifie que celle-ci fait partie de la fonction `dessiner_point`\n",
    "\n",
    "# testez cette fonction :\n",
    "dessiner_point(zone1, 30, 30)\n",
    "\n",
    "def dessiner_de1(zone):\n",
    "    dessiner_point(zone, 30, 30)\n",
    "\n",
    "def dessiner_de2(zone):\n",
    "    dessiner_point(zone, 10, 10)\n",
    "    dessiner_point(zone, 50, 50)\n",
    "\n",
    "# testez ces deux fonctions, par exemple avec :\n",
    "dessiner_de1(zone1)\n",
    "dessiner_de2(zone3)\n"
   ]
  },
  {
   "cell_type": "markdown",
   "metadata": {},
   "source": [
    "Les priorités des opérations sont bien sûr respectées"
   ]
  },
  {
   "cell_type": "code",
   "execution_count": null,
   "metadata": {},
   "outputs": [],
   "source": [
    "2 * 3 + 4"
   ]
  },
  {
   "cell_type": "markdown",
   "metadata": {},
   "source": [
    "En Python il n'existe aucune limitation sur la taille des entiers.  \n",
    "Voici comment par exemple calculer $5^{100}$"
   ]
  },
  {
   "cell_type": "code",
   "execution_count": null,
   "metadata": {},
   "outputs": [],
   "source": [
    "5 ** 100"
   ]
  },
  {
   "cell_type": "markdown",
   "metadata": {},
   "source": [
    "On peut vérifier le type de la donnée (dans nos exemples précédents :  type entier) à l'aide de la fonction `type` .  \n",
    "\n"
   ]
  },
  {
   "cell_type": "code",
   "execution_count": 9,
   "metadata": {
    "scrolled": true
   },
   "outputs": [
    {
     "data": {
      "text/plain": [
       "int"
      ]
     },
     "execution_count": 9,
     "metadata": {},
     "output_type": "execute_result"
    }
   ],
   "source": [
    "type(4)"
   ]
  },
  {
   "cell_type": "markdown",
   "metadata": {},
   "source": [
    "Cette fonction retourne dans le cas d'un entier `<class 'int'>` :\n",
    "> int provient du mot anglais _integer_ (nombre entier)"
   ]
  },
  {
   "cell_type": "markdown",
   "metadata": {},
   "source": [
    "## Les nombres à virgule flottante\n",
    "\n",
    "\n",
    "vous utiliserez Python en mode interactif via la zone __Shell__ du logiciel Thonny. \n",
    "\n",
    "Cette zone permet de tester du code sans avoir à la sauvegarder au préalable.  \n",
    "\n",
    "![shell de Thonny](./fig/shell_thonny.jpg)\n",
    "\n",
    "Une invite de commande aussi appelée __prompt__ et symbolisée par 3 chevrons `>>>` vous permet de tester directement du code qui sera immédiatement interprété après l'appui sur la touche `entrée`\n",
    "\n",
    "## Les nombres entiers\n",
    "\n",
    "En langage Python on distingue deux catégories de nombres : les nombres __entiers__ et les nombres __réels__ (appelés aussi nombres à _virgule flottante_)\n",
    "\n",
    "On peut bien évidemment utiliser les quatre opérations arithmétiques sur ces nombres (tester-le dans le _Shell_ et valider avec la touche `entrée`.\n",
    "\n",
    "Les nombres à virgule flottante sont des nombres comportant une partie entière et une partie décimale après la virgule  marquée par un point (notation anglo-saxonne).  \n",
    "\n",
    "Par exemple :  _1.2_     ou   _1._   ou encore _.001_"
   ]
  },
  {
   "cell_type": "code",
   "execution_count": null,
   "metadata": {},
   "outputs": [],
   "source": [
    "3.141592"
   ]
  },
  {
   "cell_type": "markdown",
   "metadata": {},
   "source": [
    "Lorsque la partie entière d'un nombre flottant devient trop grande : le nombre est donné en notation scientifique (comme sur vos calculatrices).  \n",
    "Ici __e__ signifie _\"fois dix puissance \"_ :   $\\times10^{n}$."
   ]
  },
  {
   "cell_type": "code",
   "execution_count": null,
   "metadata": {},
   "outputs": [],
   "source": [
    "4.2 ** 6"
   ]
  },
  {
   "cell_type": "code",
   "execution_count": null,
   "metadata": {},
   "outputs": [],
   "source": [
    "15.1 ** -8"
   ]
  },
  {
   "cell_type": "markdown",
   "metadata": {},
   "source": [
    "On peut d'ailleurs directement écrire les nombres flottants sous cette forme :"
   ]
  },
  {
   "cell_type": "code",
   "execution_count": null,
   "metadata": {},
   "outputs": [],
   "source": [
    "6.02e21"
   ]
  },
  {
   "cell_type": "markdown",
   "metadata": {},
   "source": [
    "On peut vérifier le type de cette nouvelle donnée.  \n",
    "Ici, la fonction retourne  `<class 'float'>`"
   ]
  },
  {
   "cell_type": "code",
   "execution_count": null,
   "metadata": {},
   "outputs": [],
   "source": [
    "type(1.60e-19)"
   ]
  },
  {
   "cell_type": "markdown",
   "metadata": {},
   "source": [
    "Enfin, il est intéressant de noter que Python convertit implicitement les entiers en flottants si nécessaire :"
   ]
  },
  {
   "cell_type": "code",
   "execution_count": null,
   "metadata": {},
   "outputs": [],
   "source": [
    "4 + 5.2"
   ]
  },
  {
   "cell_type": "markdown",
   "metadata": {},
   "source": [
    "## Les divisions\n",
    "\n",
    "En Python3, l'opérateur de division donne __toujours__ en résultat un nombre à virgule flottante."
   ]
  },
  {
   "cell_type": "code",
   "execution_count": null,
   "metadata": {},
   "outputs": [],
   "source": [
    "1 / 3"
   ]
  },
  {
   "cell_type": "code",
   "execution_count": null,
   "metadata": {},
   "outputs": [],
   "source": [
    "18 / 6"
   ]
  },
  {
   "cell_type": "markdown",
   "metadata": {},
   "source": [
    "On peut également effectuer une division entière (aussi appelée __division euclidienne__)  \n",
    "\n",
    "![division euclidienne](./fig/divisioneuclidienne.png)\n",
    "\n",
    "[^1] \n",
    "\n",
    "On rappelle que $dividende = diviseur \\times quotient + reste$\n",
    "\n",
    "On peut alors utiliser l'opérateur __division entière__  `//`  qui permet de retrouver le quotient."
   ]
  },
  {
   "cell_type": "code",
   "execution_count": null,
   "metadata": {},
   "outputs": [],
   "source": [
    "18 // 7"
   ]
  },
  {
   "cell_type": "markdown",
   "metadata": {},
   "source": [
    "Mais aussi l'opérateur __reste de la division entière__   `%`, lui,  permet de retrouver le reste.  \n",
    "Cet opérateur se nomme aussi __modulo__."
   ]
  },
  {
   "cell_type": "code",
   "execution_count": null,
   "metadata": {},
   "outputs": [],
   "source": [
    "18 % 7"
   ]
  },
  {
   "cell_type": "markdown",
   "metadata": {},
   "source": [
    "# Les variables\n",
    "\n",
    "## Déclaration et affectation\n",
    "\n",
    "Une __variable__ est un emplacement réservé dans la mémoire associée à un _nom de variable_ : c'est à dire un ou plusieurs caractères que le programmeur aura choisi.  \n",
    "On peut lui __affecter__ une __valeur__ à l'aide de l'opérateur `=`, par exemple :"
   ]
  },
  {
   "cell_type": "code",
   "execution_count": null,
   "metadata": {},
   "outputs": [],
   "source": [
    "x = 5.0"
   ]
  },
  {
   "cell_type": "markdown",
   "metadata": {},
   "source": [
    "Remarquez qu'en exécutant ces lignes à priori rien ne se passe.  \n",
    " En fait une nouvelle référence désignant une adresse mémoire ( _un emplacement précis de la mémoire_) a été créé et a été associée à un objet de type _int_ ou _float_ suivant le cas."
   ]
  },
  {
   "cell_type": "code",
   "execution_count": null,
   "metadata": {},
   "outputs": [],
   "source": [
    "type(x)"
   ]
  },
  {
   "cell_type": "markdown",
   "metadata": {},
   "source": [
    "Puisque nous avons défini la variable `x`, nous pouvons l'utiliser dans des expressions pour effectuer des calculs."
   ]
  },
  {
   "cell_type": "code",
   "execution_count": null,
   "metadata": {},
   "outputs": [],
   "source": [
    "2 * x + 4"
   ]
  },
  {
   "cell_type": "markdown",
   "metadata": {},
   "source": [
    "Le nom d'une variable est assez libre veillez cependant à ne pas commencer par un chiffre et qu'il __ne comporte pas d'espace!__"
   ]
  },
  {
   "cell_type": "code",
   "execution_count": null,
   "metadata": {},
   "outputs": [],
   "source": [
    "c_lumiere_vide = 299792458"
   ]
  },
  {
   "cell_type": "code",
   "execution_count": null,
   "metadata": {},
   "outputs": [],
   "source": [
    "c lumiere vide = 299792458"
   ]
  },
  {
   "cell_type": "markdown",
   "metadata": {},
   "source": [
    "Certains noms sont réservés, attention ! En voici la [liste](https://fr.wikibooks.org/wiki/Programmation_Python/Tableau_des_mots_r%C3%A9serv%C3%A9s)\n"
   ]
  },
  {
   "cell_type": "code",
   "execution_count": null,
   "metadata": {},
   "outputs": [],
   "source": [
    "def = 4"
   ]
  },
  {
   "cell_type": "markdown",
   "metadata": {},
   "source": [
    "## Recommandations\n",
    "\n",
    "En python, il existe des recommandations d'écriture qui facilitent la lecture du code.  \n",
    "\n",
    "[recommandations PEP8](http://nguyen.univ-tln.fr/share/Python/pep8.pdf)  \n",
    "\n",
    "On préférera par exemple éviter les accents dans les noms de variables et utiliser uniquement des lettres minuscules.  \n",
    "\n",
    "Si le nom de la variable est composé on utilise généralement le caractère _blanc souligné_ `_` pour séparer les mots.  \n",
    "\n",
    "Enfin, les noms de variables doivent être explicites, on évite sauf cas particulier les lettres uniques.  \n",
    "\n",
    "Par exemple :  \n",
    "* On préférera `vitesse` à ~~`Vitesse`~~  \n",
    "* On préférera `moyenne_generale` à ~~`moyennegenerale`~~  \n",
    "* On préférera `abscisses` à ~~`x`~~  "
   ]
  },
  {
   "cell_type": "markdown",
   "metadata": {},
   "source": [
    "---\n",
    "\n",
    "_Sources_\n",
    "\n",
    "[^1]: image division euclidienne  https://www.jeuxmaths.fr"
   ]
  }
 ],
 "metadata": {
  "jupytext": {
   "cell_metadata_filter": "-all",
   "notebook_metadata_filter": "-all",
   "text_representation": {
    "extension": ".md",
    "format_name": "markdown"
   }
  },
  "kernelspec": {
   "display_name": "Python 3",
   "language": "python",
   "name": "python3"
  },
  "language_info": {
   "codemirror_mode": {
    "name": "ipython",
    "version": 3
   },
   "file_extension": ".py",
   "mimetype": "text/x-python",
   "name": "python",
   "nbconvert_exporter": "python",
   "pygments_lexer": "ipython3",
   "version": "3.6.9"
  }
 },
 "nbformat": 4,
 "nbformat_minor": 4
}
