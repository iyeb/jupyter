{
  "nbformat": 4,
  "nbformat_minor": 0,
  "metadata": {
    "kernelspec": {
      "display_name": "Python 3",
      "language": "python",
      "name": "python3"
    },
    "language_info": {
      "codemirror_mode": {
        "name": "ipython",
        "version": 3
      },
      "file_extension": ".py",
      "mimetype": "text/x-python",
      "name": "python",
      "nbconvert_exporter": "python",
      "pygments_lexer": "ipython3",
      "version": "3.7.6"
    },
    "colab": {
      "name": "CSV lecture requetes tris 2: APPLIQUER (1ere) - sujet.ipynb",
      "provenance": [],
      "collapsed_sections": []
    }
  },
  "cells": [
    {
      "cell_type": "markdown",
      "metadata": {
        "id": "zN5nK2Y2W6eo"
      },
      "source": [
        "<center><font color=\"darkyellow\" size=\"4\"><b> ⚠️⚠️⚠️   &nbsp; &nbsp;! Pensez à faire une copie <u>dans votre drive</u> avant de commencer !  &nbsp; &nbsp;⚠️⚠️⚠️</b></font></center>"
      ]
    },
    {
      "cell_type": "markdown",
      "metadata": {
        "id": "Ryw8g2QaSoT0"
      },
      "source": [
        "<center><font color=\"orange\" size=\"6\"><b>Les données structurées au format CSV (1ère partie)\n",
        "\n",
        "<font color=\"orange\" size=\"6\">① Lecture &nbsp;&nbsp;&nbsp;&nbsp;&nbsp;&nbsp;&nbsp;\n",
        "② requêtes &nbsp;&nbsp;&nbsp;&nbsp;&nbsp;&nbsp;&nbsp;\n",
        " ③ Tris</b></font></center>\n",
        "\n"
      ]
    },
    {
      "cell_type": "markdown",
      "metadata": {
        "id": "Iw39n7Yy_Q3m"
      },
      "source": [
        "\n",
        "\n",
        "---\n",
        "\n",
        "<center><font color=\"orange\" size=\"6\"><b>TP d'application</b></font></center>\n",
        "\n",
        "\n",
        "---\n",
        "\n"
      ]
    },
    {
      "cell_type": "markdown",
      "metadata": {
        "id": "VBR9FwjkkIJb"
      },
      "source": [
        "⏬ Téléchargez maintenant le fichier [villes.csv](https://drive.google.com/file/d/1Zi_spru-r9J1TMTiT8lw18wTNya8hClw/view?usp=sharing) puis importez le dans la session. Il est trop volumineux pour un affichage rapide.... vous allez devoir travailler dessus pour savoir ce qu'il contient !\n",
        "\n",
        "Nous reprenons la fonction readCSV du 1er TP"
      ]
    },
    {
      "cell_type": "code",
      "metadata": {
        "id": "QqPUDQSsSoT3"
      },
      "source": [
        "import csv\n",
        "def readCSV( filename:str ) -> list :\n",
        "    '''\n",
        "    Entrée : nom d'un fichier CSV\n",
        "    Sortie : la fonction renvoie les données lues dans une liste de dictionnaires\n",
        "    '''\n",
        "    with open(filename, mode = \"r\" , encoding='utf-8' , newline = '') as csvFile :\n",
        "        reader = csv.DictReader(csvFile)\n",
        "        lu = [dict(ligne) for ligne in reader]\n",
        "    print('nombre d\\'enregistrements lus : ',len(lu) )\n",
        "    return lu\n",
        "    "
      ],
      "execution_count": null,
      "outputs": []
    },
    {
      "cell_type": "markdown",
      "metadata": {
        "id": "HIOwVFld753F"
      },
      "source": [
        "<font color=\"orange\" size=\"4\">➽ Lire villes.csv et  créer la liste <u>*villes*</u> en utilisant notre fonction readCSV() :</font>"
      ]
    },
    {
      "cell_type": "code",
      "metadata": {
        "colab": {
          "base_uri": "https://localhost:8080/"
        },
        "id": "UEUVZCH97MBQ",
        "outputId": "ad1167a7-248c-43fd-b1f0-6efecd28647e"
      },
      "source": [
        "# Avec la fonction readCSV() \n",
        "help(readCSV)\n",
        "villes = readCSV('villes.csv')"
      ],
      "execution_count": null,
      "outputs": [
        {
          "output_type": "stream",
          "text": [
            "Help on function readCSV in module __main__:\n",
            "\n",
            "readCSV(filename: str) -> list\n",
            "    Entrée : nom d'un fichier CSV\n",
            "    Sortie : la fonction renvoie les données lues dans une liste de dictionnaires\n",
            "\n",
            "nombre d'enregistrements lus :  36700\n"
          ],
          "name": "stdout"
        }
      ]
    },
    {
      "cell_type": "markdown",
      "metadata": {
        "id": "kpVZvzndlQMd"
      },
      "source": [
        "<font color=\"orange\" size=\"4\">➽ Affichez toutes les infos de la première ville du fichier:</font>"
      ]
    },
    {
      "cell_type": "code",
      "metadata": {
        "id": "sAJJoSNClXVP",
        "colab": {
          "base_uri": "https://localhost:8080/"
        },
        "outputId": "40713636-8251-47e3-8a08-cebadf99b99f"
      },
      "source": [
        "# votre code"
      ],
      "execution_count": null,
      "outputs": [
        {
          "output_type": "stream",
          "text": [
            "{'dep': '1', 'nom': 'Ozan', 'cp': '1190', 'nb_hab_2010': '618', 'nb_hab_1999': '469', 'nb_hab_2012': '500', 'dens': '93', 'surf': '6.6', 'long': '4.91667', 'lat': '46.3833', 'alt_min': '170', 'alt_max': '205'}\n"
          ],
          "name": "stdout"
        }
      ]
    },
    {
      "cell_type": "markdown",
      "metadata": {
        "id": "iQoqLsHjlzvP"
      },
      "source": [
        "<font color=\"orange\" size=\"4\">➽ Affichez le nombre de villes:</font>"
      ]
    },
    {
      "cell_type": "code",
      "metadata": {
        "id": "BSU6YkvK_r_J",
        "colab": {
          "base_uri": "https://localhost:8080/"
        },
        "outputId": "5e2647cd-ca66-4b79-acbf-c36e6daa0222"
      },
      "source": [
        "# votre code"
      ],
      "execution_count": null,
      "outputs": [
        {
          "output_type": "stream",
          "text": [
            "36700\n"
          ],
          "name": "stdout"
        }
      ]
    },
    {
      "cell_type": "markdown",
      "metadata": {
        "id": "2vMTMq9uRTbC"
      },
      "source": [
        "<font color=\"orange\" size=\"4\">➽ Affichez les noms de toutes les villes de plus de 300000 habitants en 2012: \n",
        "\n",
        "(vous précéderez du nombre de ces villes)</font>\n",
        "\n",
        "> il y a  5  villes de plus 300k ha en 2012 :<br>\n",
        "> Nice<br>\n",
        "> Marseille<br>\n",
        "> Toulouse<br>\n",
        "> Lyon<br>\n",
        "> Paris"
      ]
    },
    {
      "cell_type": "code",
      "metadata": {
        "id": "dHY6PZ89_ukh"
      },
      "source": [
        "# a vous"
      ],
      "execution_count": null,
      "outputs": []
    },
    {
      "cell_type": "markdown",
      "metadata": {
        "id": "bz9kKi1FPQNS"
      },
      "source": [
        "<font color=\"orange\" size=\"4\">➽ Affichez les noms et le nombre d'habitants de toutes les villes de plus de 300000 habitants en 2012: \n",
        "\n",
        "(vous précéderez du nombre de ces villes)</font>\n",
        "\n",
        "vous afficherez des tuples :\n",
        "\n",
        "> il y a  5  villes de plus 300k ha en 2012 :<br>\n",
        "> ('Nice', '344900')<br>\n",
        ">('Marseille', '851400')<br>\n",
        ">('Toulouse', '439600')<br>\n",
        ">('Lyon', '474900')<br>\n",
        ">('Paris', '2211000')"
      ]
    },
    {
      "cell_type": "code",
      "metadata": {
        "id": "JqtTBPoLmN8K",
        "colab": {
          "base_uri": "https://localhost:8080/"
        },
        "outputId": "a51b0eec-1b85-46da-9d4c-e1768afa3944"
      },
      "source": [
        "villes300k2012tuples = ..."
      ],
      "execution_count": null,
      "outputs": [
        {
          "output_type": "stream",
          "text": [
            "('Lyon', '474900')\n",
            "('Marseille', '851400')\n",
            "('Nice', '344900')\n",
            "('Paris', '2211000')\n",
            "('Toulouse', '439600')\n"
          ],
          "name": "stdout"
        }
      ]
    },
    {
      "cell_type": "markdown",
      "metadata": {
        "id": "LHLHNUlQymXe"
      },
      "source": [
        "<font color=\"orange\" size=\"4\">➽ Refaire la même chose, mais cette fois en créant une liste de dictionnaires: \n",
        "\n",
        "(vous précéderez du nombre de ces villes)</font>\n",
        "\n",
        "vous afficherez la liste des dictionnaires :\n",
        "\n",
        "> il y a  5  villes de plus 300k ha en 2012 :<br>\n",
        "> {'nom': 'Nice', 'nb_hab_2012': '344900'}<br>\n",
        "> {'nom': 'Marseille', 'nb_hab_2012': '851400'}<br>\n",
        "> {'nom': 'Toulouse', 'nb_hab_2012': '439600'}<br>\n",
        "> {'nom': 'Lyon', 'nb_hab_2012': '474900'}<br>\n",
        "> {'nom': 'Paris', 'nb_hab_2012': '2211000'}"
      ]
    },
    {
      "cell_type": "code",
      "metadata": {
        "id": "9rWSwrHFzT7K"
      },
      "source": [
        "villes300k2012dict = ..."
      ],
      "execution_count": null,
      "outputs": []
    },
    {
      "cell_type": "markdown",
      "metadata": {
        "id": "hM48srdhoD-P"
      },
      "source": [
        "<font color=\"orange\" size=\"4\">➽ Triez la liste villes300k2012tuples de la plus à la moins peuplée : \n",
        "</font>"
      ]
    },
    {
      "cell_type": "code",
      "metadata": {
        "colab": {
          "base_uri": "https://localhost:8080/"
        },
        "id": "mCPla6b8oD-Q",
        "outputId": "1667c19c-112a-415f-eceb-d9bc8ab9f67d"
      },
      "source": [
        "# il faut définir une clef qui prend un tuple et renvoi l'élement d'indice souhaité pour le tri\n",
        "# puis sort(key)...) comme pour trier une liste de dictionnaire"
      ],
      "execution_count": null,
      "outputs": [
        {
          "output_type": "stream",
          "text": [
            "il y a  5  villes de plus 300k ha en 2012 :\n",
            "('Paris', '2211000')\n",
            "('Marseille', '851400')\n",
            "('Lyon', '474900')\n",
            "('Toulouse', '439600')\n",
            "('Nice', '344900')\n"
          ],
          "name": "stdout"
        }
      ]
    },
    {
      "cell_type": "markdown",
      "metadata": {
        "id": "m4kBfJQA0obg"
      },
      "source": [
        "<font color=\"orange\" size=\"4\">➽ Triez de même la liste villes300k2012dict de la plus à la moins peuplée : \n",
        "</font>"
      ]
    },
    {
      "cell_type": "code",
      "metadata": {
        "colab": {
          "base_uri": "https://localhost:8080/"
        },
        "id": "4zot0WOy0obj",
        "outputId": "a0d9dc19-a8f9-4bf5-8fdf-d60ad6a92f3a"
      },
      "source": [
        "# a vous"
      ],
      "execution_count": null,
      "outputs": [
        {
          "output_type": "stream",
          "text": [
            "il y a  5  villes de plus 300k ha en 2012 :\n",
            "{'nom': 'Paris', 'nb_hab_2012': '2211000'}\n",
            "{'nom': 'Marseille', 'nb_hab_2012': '851400'}\n",
            "{'nom': 'Lyon', 'nb_hab_2012': '474900'}\n",
            "{'nom': 'Toulouse', 'nb_hab_2012': '439600'}\n",
            "{'nom': 'Nice', 'nb_hab_2012': '344900'}\n"
          ],
          "name": "stdout"
        }
      ]
    },
    {
      "cell_type": "markdown",
      "metadata": {
        "id": "4vkODhF9PfMx"
      },
      "source": [
        "<font color=\"orange\" size=\"4\">➽ Affichez les noms et nb d'ha en 2012 des villes de plus de 10000 habitants en 2012 situées en Ille et vilaine : \n",
        "\n",
        "vous précéderez du nombre de ces villes :\n",
        "\n",
        "```\n",
        "il y a  9  villes de plus 10k ha en 2012 en Ille et Vilaine (en 2012):\n",
        "{'nom': 'Rennes', 'nb_hab_2012': '206700'}\n",
        "{'nom': 'Saint-Malo', 'nb_hab_2012': '48200'}\n",
        "{'nom': 'Dinard', 'nb_hab_2012': '11000'}\n",
        "{'nom': 'Bruz', 'nb_hab_2012': '15600'}\n",
        "{'nom': 'Betton', 'nb_hab_2012': '10200'}\n",
        "{'nom': 'Fougères', 'nb_hab_2012': '20100'}\n",
        "{'nom': 'Vitré', 'nb_hab_2012': '16700'}\n",
        "{'nom': 'Saint-Jacques-de-la-Lande', 'nb_hab_2012': '10200'}\n",
        "{'nom': 'Cesson-Sévigné', 'nb_hab_2012': '15200'}\n",
        "```\n",
        "</font>"
      ]
    },
    {
      "cell_type": "code",
      "metadata": {
        "id": "sYsren03ppFI"
      },
      "source": [
        "villesPlus10k_35 = ..."
      ],
      "execution_count": null,
      "outputs": []
    },
    {
      "cell_type": "markdown",
      "metadata": {
        "id": "IlGEgW1ABOnS"
      },
      "source": [
        "Sur cette dernière requête, vous devez remarquer que les villes sont restées **triées** par nombre d'hab décroissant.\n",
        "\n",
        "\n",
        "Deux dernières petites choses : il est aussi possible d'ajouter des colonnes, et bien sur aussi d'enregistrer notre travail !"
      ]
    },
    {
      "cell_type": "markdown",
      "metadata": {
        "id": "7mavAt5JPzxl"
      },
      "source": [
        "<font color=\"orange\" size=\"6\">➽ Ajouter une colonne</font>\n"
      ]
    },
    {
      "cell_type": "code",
      "metadata": {
        "colab": {
          "base_uri": "https://localhost:8080/"
        },
        "id": "1GtayLhkP9h-",
        "outputId": "a781e028-4a1a-4dfd-cd0c-a2e9ea817a63"
      },
      "source": [
        "# ajoutons une clé à nos dictionnaires\n",
        "# soit une colonne si on enrengistre ensuite\n",
        "for v in villes :\n",
        "    v['diff2012_2010'] = int(v['nb_hab_2012']) - int(v['nb_hab_2010'])\n",
        "villes[0]"
      ],
      "execution_count": null,
      "outputs": [
        {
          "output_type": "execute_result",
          "data": {
            "text/plain": [
              "{'alt_max': '205',\n",
              " 'alt_min': '170',\n",
              " 'cp': '1190',\n",
              " 'dens': '93',\n",
              " 'dep': '1',\n",
              " 'diff2012_2010': -118,\n",
              " 'lat': '46.3833',\n",
              " 'long': '4.91667',\n",
              " 'nb_hab_1999': '469',\n",
              " 'nb_hab_2010': '618',\n",
              " 'nb_hab_2012': '500',\n",
              " 'nom': 'Ozan',\n",
              " 'surf': '6.6'}"
            ]
          },
          "metadata": {
            "tags": []
          },
          "execution_count": 30
        }
      ]
    },
    {
      "cell_type": "markdown",
      "metadata": {
        "id": "n6sMie2tP9iK"
      },
      "source": [
        "<font color=\"orange\" size=\"4\">➽ Pouvez vous faire afficher ces informations :</font>\n",
        "\n",
        "> il y a  14956  villes dont la population a augmenté entre 2010 et  2012<br>\n",
        "> La plus forte hausse est de + 3303  à  Le Havre<br>\n",
        "> la variation totale de population pour ces villes en croissance est de  627487<br>\n",
        "> la variation totale de population pour l'ensemble des villes Françaises est de  -621369"
      ]
    },
    {
      "cell_type": "code",
      "metadata": {
        "id": "qM3yB3XaTOVG"
      },
      "source": [
        "# trier la liste des villes  par diff décroissant\n",
        "\n",
        "# extraire les ville ou la diff est >=0\n",
        "# (on pourra se contenter de tuples)\n",
        "\n",
        "# afficher le nb_hab de la 1ere ville\n",
        "\n",
        "# extraire la colonne diff dans un liste et faire la somme\n",
        "\n",
        "# faire la somme des diff de toutes les villes\n"
      ],
      "execution_count": null,
      "outputs": []
    },
    {
      "cell_type": "markdown",
      "metadata": {
        "id": "4QIfd2H5Dlpf"
      },
      "source": [
        "<font color=\"orange\" size=\"6\">➽ Modifier une colonne</font>\n",
        "\n",
        "Il est possible de modifer les éléments d'une colonne :\n",
        "\n",
        "- on parcours la liste\n",
        "- pour chaque élément, on modifie la colonne"
      ]
    },
    {
      "cell_type": "code",
      "metadata": {
        "id": "sXpBxJvQEzop"
      },
      "source": [
        "# exemple : on va ajouter 1 habitant dans toutes les villes :\n",
        "\n",
        "print(\"avant :\")\n",
        "for i in range(5) :\n",
        "    print(villes[i]['nom'] , \" \",villes[i]['nb_hab_1999'])\n",
        "\n",
        "# modification :\n",
        "for v in villes :\n",
        "    v['nb_hab_1999'] = str( int(  v['nb_hab_1999'] ) + 1 )\n",
        "\n",
        "\n",
        "print('------------------------------------------------')\n",
        "print(\"après :\")\n",
        "for i in range(5) :\n",
        "    print(villes[i]['nom'] , \" \",villes[i]['nb_hab_1999'])"
      ],
      "execution_count": null,
      "outputs": []
    },
    {
      "cell_type": "markdown",
      "metadata": {
        "id": "odcVYuHIGkBK"
      },
      "source": [
        "<font color=\"orange\" size=\"6\">➽ Modifier le type d'une ou plusieurs colonnes</font>\n",
        "\n",
        "Dans l'exemple précédent, on a converti en int puis reconverti en str.\n",
        "\n",
        "C'est un peu lourd et finalement, il serait plutôt judicieux de convertir en int ou float les colonnes numériques.\n",
        "\n",
        "Téléchargez puis importez le fichier [libCSV0.py ](https://drive.google.com/file/d/1bQ2PRAS0RisbcY22vFs_cdXSSYqh13z2/view?usp=sharing)\n",
        "\n",
        "Il contient une librairie (très limitée) de fonctions de traitement de listes de dictionnaires. Nous examinerons son contenu ultérieurement, nous allons d'abord voir comment utiliser une librairie en s'appuyant seulement sur help()"
      ]
    },
    {
      "cell_type": "code",
      "metadata": {
        "colab": {
          "base_uri": "https://localhost:8080/"
        },
        "id": "vphOFGAeHnOE",
        "outputId": "fc48c8e8-6108-4f66-f659-b9c2a6e06ecc"
      },
      "source": [
        "from  libSCV0 import *\n",
        "\n",
        "help(setColType)"
      ],
      "execution_count": null,
      "outputs": [
        {
          "output_type": "stream",
          "text": [
            "Help on function setColType in module libSCV0:\n",
            "\n",
            "setColType(lstDict: list, cle: str, typeOf: type) -> None\n",
            "    Entrée : lstDict (liste de dictionnaire)\n",
            "    cle : nom d'une clef des dictionnaires (str)\n",
            "    typeOf : int, float, ou str : type dans lequel on souhaite encoder la colonne\n",
            "    La fonction modifie par effet de bord la liste lstDict\n",
            "    Le type d'une seule colonne est modifiée\n",
            "    \n",
            "    \n",
            "    exemple :\n",
            "    >>> neveux = [ {\"nom\" : \"Riri\" , \"age\" : \"12\" , \"argent\":\"41.3\"} ,\n",
            "                {\"nom\" : \"Fifi\" , \"age\" : \"15\" , \"argent\":\"21.0\"} ,\n",
            "                {\"nom\" : \"Loulou\" , \"age\" : \"13\" , \"argent\":\"11.5\"}]\n",
            "    >>> lstTypes = { 'age' : int , 'argent' : float }\n",
            "    >>> setColsTypes(neveux , 'age' , int )\n",
            "    [ {\"nom\" : \"Riri\" , \"age\" : 12 , \"argent\":\"41.3\"} ,\n",
            "                {\"nom\" : \"Fifi\" , \"age\" : 15 , \"argent\":\"21.0\"} ,\n",
            "                {\"nom\" : \"Loulou\" , \"age\" : 13 , \"argent\":\"11.5\"}]\n",
            "                \n",
            "    # les éléments de la colonne age sont maintenant de types int.\n",
            "\n"
          ],
          "name": "stdout"
        }
      ]
    },
    {
      "cell_type": "markdown",
      "metadata": {
        "id": "5y2-b3T5Id0L"
      },
      "source": [
        "<font color=\"orange\" size=\"4\">➽ Utilisez la fonction setColType pour convertir en int une colonne</font>\n",
        "\n",
        "Convertir en int la colonnes nb_hab_1999\n",
        "\n"
      ]
    },
    {
      "cell_type": "code",
      "metadata": {
        "id": "TEx9oEbxId0M"
      },
      "source": [
        "# votre code"
      ],
      "execution_count": null,
      "outputs": []
    },
    {
      "cell_type": "code",
      "metadata": {
        "id": "a0BlajqoMaPX"
      },
      "source": [
        "assert type(villes[0]['nb_hab_1999']) == int"
      ],
      "execution_count": null,
      "outputs": []
    },
    {
      "cell_type": "markdown",
      "metadata": {
        "id": "BhNDh2Vz3_Db"
      },
      "source": [
        "<font color=\"orange\" size=\"6\">➽ Enregistrer le travail</font>\n"
      ]
    },
    {
      "cell_type": "code",
      "metadata": {
        "id": "gNhFODJg4AEe"
      },
      "source": [
        "# on extrait une portion du fichier :\n",
        "vPlus = [(v['nom'],v['nb_hab_2010'],v['nb_hab_2012'],v['diff2012_2010']) for v in villes if v['diff2012_2010'] > 0 ]\n",
        "\n",
        "# et on enregistre :\n",
        "with open('villes_hausse2012.csv', 'w', newline='') as csvfile:\n",
        "    fieldnames = ['nom', 'nb_hab_2010', 'nb_hab_2012','diff2012_2010']\n",
        "    writer = csv.DictWriter(csvfile, fieldnames=fieldnames)\n",
        "\n",
        "    writer.writeheader()\n",
        "    for v in vPlus :\n",
        "        writer.writerow({'nom': v[0], 'nb_hab_2010': v[1],'nb_hab_2012':v[2] ,'diff2012_2010':v[3]})\n"
      ],
      "execution_count": null,
      "outputs": []
    },
    {
      "cell_type": "markdown",
      "metadata": {
        "id": "a4PqVScQ55Fg"
      },
      "source": [
        "double cliquez le fichier créé pour vérifier."
      ]
    },
    {
      "cell_type": "code",
      "metadata": {
        "id": "7KCxXLWebHj8"
      },
      "source": [
        "# autre approche : créer la liste de dictionnaires lors de la requête :\n",
        "vPlus = [{ 'nom':v['nom'] ,\\\n",
        "           'nb_hab_2010':v['nb_hab_2010'] , \\\n",
        "           'nb_hab_2012':v['nb_hab_2012'], \\\n",
        "           'diff2012_2010':v['diff2012_2010'] }\\\n",
        "            for v in villes if v['diff2012_2010'] > 0 ]\n",
        "\n",
        "# et on enregistre :\n",
        "with open('villes_hausse2012_2.csv', 'w', newline='') as csvfile:\n",
        "    fieldnames = v.keys()\n",
        "    writer = csv.DictWriter(csvfile, fieldnames=fieldnames)\n",
        "    writer.writeheader()\n",
        "    for v in vPlus :\n",
        "        writer.writerow(v)"
      ],
      "execution_count": null,
      "outputs": []
    },
    {
      "cell_type": "markdown",
      "metadata": {
        "id": "UrHwTvOZVX5-"
      },
      "source": [
        "\n",
        "<center>\n",
        "\n",
        "---\n",
        "\n",
        "*Auteurs* :  **Jean-Louis Thirot - Mireille Coilhac**\n",
        "\n",
        "Publié sous licence CC BY-NC-SA\n",
        "\n",
        "\n",
        "---\n",
        "<a rel=\"license\" href=\"http://creativecommons.org/licenses/by-nc-sa/4.0/\"><img alt=\"Creative Commons License\" style=\"border-width:0\" width=\"200\" src=\"https://s2.qwant.com/thumbr/700x0/f/9/436dcce5e02185c0b2e1b0e7a969aa81d7b0438d0a7f2eaee89abb9661b70b/cc-by-nc-sa.svg_.png?u=http%3A%2F%2Fopensiddur.org%2Fwp-content%2Fuploads%2F2011%2F03%2Fcc-by-nc-sa.svg_.png&q=0&b=1&p=0&a=1\" /></a><br />This work is licensed under a <a rel=\"license\" href=\"http://creativecommons.org/licenses/by-nc-sa/4.0/\">Creative Commons Attribution-NonCommercial-ShareAlike 4.0 International License</a>. "
      ]
    }
  ]
}