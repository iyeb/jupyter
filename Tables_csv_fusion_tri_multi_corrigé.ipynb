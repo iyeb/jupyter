{
  "nbformat": 4,
  "nbformat_minor": 0,
  "metadata": {
    "kernelspec": {
      "display_name": "Python 3",
      "language": "python",
      "name": "python3"
    },
    "language_info": {
      "codemirror_mode": {
        "name": "ipython",
        "version": 3
      },
      "file_extension": ".py",
      "mimetype": "text/x-python",
      "name": "python",
      "nbconvert_exporter": "python",
      "pygments_lexer": "ipython3",
      "version": "3.7.6"
    },
    "colab": {
      "name": "Tables_csv_fusion tri_multi-corrigé.ipynb",
      "provenance": [],
      "toc_visible": true
    }
  },
  "cells": [
    {
      "cell_type": "markdown",
      "metadata": {
        "id": "YPUUQGagcgr8"
      },
      "source": [
        "<center><font color=\"darkyellow\" size=\"4\"><b> ⚠️⚠️⚠️   &nbsp; &nbsp;! Pensez à faire une copie <u>dans votre drive</u> avant de commencer !  &nbsp; &nbsp;⚠️⚠️⚠️</b></font></center>"
      ]
    },
    {
      "cell_type": "markdown",
      "metadata": {
        "id": "Ryw8g2QaSoT0"
      },
      "source": [
        "<center><font color=\"orange\" size=\"6\"><b>Les données structurées au format CSV (2ème partie)\n",
        "\n",
        "① Fusions de tables\n",
        "&nbsp;&nbsp;&nbsp;&nbsp;&nbsp;&nbsp;&nbsp;&nbsp;&nbsp;&nbsp;② Tris multi critères\n",
        "</b></font></center>\n"
      ]
    },
    {
      "cell_type": "markdown",
      "metadata": {
        "id": "aLSDkfey75hq"
      },
      "source": [
        "Nous reprenons les fonctions écrites lors du précédent TP. \n",
        "\n",
        "téléchargez les ici :\n",
        "\n",
        " [⏬ libCSV.py](https://drive.google.com/file/d/15LqVEI2Xr-wHARAzmqelHRhN2j39BHZk/view?usp=sharing)  \n",
        "\n",
        "puis importez ce fichier dans la session.\n",
        "\n",
        "Exécutez la cellule ci-dessous pour charger ces fonctions."
      ]
    },
    {
      "cell_type": "code",
      "metadata": {
        "colab": {
          "base_uri": "https://localhost:8080/"
        },
        "id": "Y9Qcl0abZczx",
        "outputId": "16cce66a-8355-4eb5-81a4-13b31fc7dd22"
      },
      "source": [
        "import csv\n",
        "from libCSV import *\n",
        "help(libCSV)"
      ],
      "execution_count": null,
      "outputs": [
        {
          "output_type": "stream",
          "text": [
            "Help on function libCSV in module libCSV:\n",
            "\n",
            "libCSV()\n",
            "    Librairie maison pour traitement de fichiers CSV\n",
            "    -------------------------------------------------\n",
            "    readCSV(filename:str) -> list : lecture de fichier\n",
            "    size( lstDict:list ) -> tuple : (nb_lignes,nb_colonne)\n",
            "    printDictCles(dico:dict,l:int) -> None : afficher les clefs d'un dict\n",
            "    printDict(dico:dict,l:int) -> None : afficher les valeurs d'un dict\n",
            "    head(lstDict,n=10,l=20) -> None: afficher n enregistrement, l= largeur des colonnes\n",
            "    printLstDict(lstDict:dict,l:int) -> None : afficher toute la liste de dict\n",
            "    recherche(lstDict:list , cle: str , val:str ) -> list : chercher dans la liste sur une clef\n",
            "    rechercheIntMoreThan( lstDict:list , cle:str , val:str ) -> list : chercher la liste ou d[clef]>val\n",
            "    rechercheMoreThan( lstDict:list , cle:str , val:str ) -> list : chercher la liste ou d[clef]>val\n",
            "    triLstDict(lstDict,cleTri,reverse = False) : tri selon cleTri, reverse False ou True\n",
            "\n"
          ],
          "name": "stdout"
        }
      ]
    },
    {
      "cell_type": "code",
      "metadata": {
        "colab": {
          "base_uri": "https://localhost:8080/"
        },
        "id": "gkf_uvw0XNHg",
        "outputId": "813cb356-c837-4ba1-cff0-fb5883916053"
      },
      "source": [
        "# N'hésitez pas à abuser de help pour voir vos docstring....\n",
        "help(triLstDict)"
      ],
      "execution_count": null,
      "outputs": [
        {
          "output_type": "stream",
          "text": [
            "Help on function triLstDict in module libCSV:\n",
            "\n",
            "triLstDict(lstDict, cleTri, reverse=False)\n",
            "    Procédure\n",
            "    Entrées : \n",
            "        lstDict : une liste de dictionnaires\n",
            "        cleTri : nom d'une clef de tri (fonction)\n",
            "        optionnel : reverse (True ou False)\n",
            "    La liste triée selon la clef de tri (effet de bord) par défut ordre croissant, \n",
            "    décroissant sir reverse est présent et égal à False\n",
            "\n"
          ],
          "name": "stdout"
        }
      ]
    },
    {
      "cell_type": "markdown",
      "metadata": {
        "id": "cl2VEVjPeJb3"
      },
      "source": [
        "Vous pouvez aussi double cliquer sur le fichier .py pour le lire, si besoin."
      ]
    },
    {
      "cell_type": "markdown",
      "metadata": {
        "id": "0BazXXY0WiSS"
      },
      "source": [
        "##  ⚠️ Rappel : il ne faut jamais utiliser un tableur dans ce cours\n"
      ]
    },
    {
      "cell_type": "markdown",
      "metadata": {
        "id": "QOLd-g95SoT4"
      },
      "source": [
        "<font color=\"orange\" size=\"6\"><b>Première partie : Fusionner deux tables</b></font>"
      ]
    },
    {
      "cell_type": "markdown",
      "metadata": {
        "id": "JF8uUGymIP8A"
      },
      "source": [
        "<font color=\"orange\" size=\"5\"><b>① Un exemple</b></font>\n",
        "\n"
      ]
    },
    {
      "cell_type": "markdown",
      "metadata": {
        "id": "bfh15NQVSoT0"
      },
      "source": [
        "- Source : https://www.isnbreizh.fr/nsi/activity/fichierCSVPython/index.html\n",
        "- Auteurs : **David Roche et Christophe Béasse.**\n",
        "- Modifications : **Mireille Coilhac et Jean-Louis Thirot**\n"
      ]
    },
    {
      "cell_type": "markdown",
      "metadata": {
        "id": "NZw8hJJvSoT0"
      },
      "source": [
        "\n",
        "2 fichiers à télécharger puis importer dans la session :\n",
        "\n",
        " [⏬ personnes.csv](https://www.isnbreizh.fr/nsi/activity/fichierCSVPython/personnes.csv)  \n",
        "\n",
        " [⏬ transports.csv](https://www.isnbreizh.fr/nsi/activity/fichierCSVPython/transports.csv)\n",
        "\n"
      ]
    },
    {
      "cell_type": "markdown",
      "metadata": {
        "id": "b0WV2D2sBN2o"
      },
      "source": [
        "<font color=\"orange\" size=\"4\">➽ Lire les deux fichiers dans des \n",
        "listes *personnes* et *transports*</font>"
      ]
    },
    {
      "cell_type": "code",
      "metadata": {
        "id": "1l6s7SazC8cf"
      },
      "source": [
        "personnes = readCSV('personnes.csv')\n",
        "transports = readCSV('transports.csv')"
      ],
      "execution_count": null,
      "outputs": []
    },
    {
      "cell_type": "markdown",
      "metadata": {
        "id": "GwFLxyJ3Dl01"
      },
      "source": [
        "<font color=\"orange\" size=\"4\">➽ Affichez l'intégralité de la liste personnes</font>\n",
        "\n",
        "vous pouvez utiliser les fonctions définies au début de ce notebook"
      ]
    },
    {
      "cell_type": "code",
      "metadata": {
        "colab": {
          "base_uri": "https://localhost:8080/"
        },
        "id": "-Cm5sKvHDl07",
        "outputId": "54c9e18c-e0ca-47ad-e081-f37fdb80e68f"
      },
      "source": [
        "printLstDict(personnes,l=12)"
      ],
      "execution_count": null,
      "outputs": [
        {
          "output_type": "stream",
          "text": [
            "nom         prenom      age         \n",
            "------------------------------------\n",
            "Durand      Jean-Pierre 32          \n",
            "Dupont      Christophe  51          \n",
            "Terta       Henry       37          \n",
            "Kapri       Leon        45          \n",
            "Lenard      Michel      17          \n",
            "Lenard      Georges     15          \n",
            "Herpan      stephan     22          \n",
            "Mastic      Brice       61          \n",
            "Pouyeau     Maxime      27          \n",
            "Arox        Gilles      51          \n",
            "Follin      Paul        32          \n",
            "\n"
          ],
          "name": "stdout"
        }
      ]
    },
    {
      "cell_type": "markdown",
      "metadata": {
        "id": "FiSUvQDyEJqe"
      },
      "source": [
        "<font color=\"orange\" size=\"4\">➽ Affichez les informations ci-dessous : (liste transports)</font>\n",
        "\n",
        "```\n",
        "ce fichier contient  8 enregistrement\n",
        "Chaque enregistrement a  8 descripteurs\n",
        "\n",
        "age         vehicule    \n",
        "------------------------\n",
        "32          voiture     \n",
        "51          tracteur    \n",
        "37          voiture     \n",
        "45          voiture     \n",
        "15          trotinette \n",
        "```\n"
      ]
    },
    {
      "cell_type": "code",
      "metadata": {
        "colab": {
          "base_uri": "https://localhost:8080/"
        },
        "id": "Mcbs9DxhEJqf",
        "outputId": "82eb7bcb-cb23-4493-8047-8bfc1e3212bc"
      },
      "source": [
        "nli,ncol = size(transports)\n",
        "print('ce fichier contient ',nli,'enregistrement')\n",
        "print('Chaque enregistrement a ',nli,'descripteurs')\n",
        "print()\n",
        "head(transports,n=5,l=12)"
      ],
      "execution_count": null,
      "outputs": [
        {
          "output_type": "stream",
          "text": [
            "ce fichier contient  8 enregistrement\n",
            "Chaque enregistrement a  8 descripteurs\n",
            "\n",
            "age         vehicule    \n",
            "------------------------\n",
            "32          voiture     \n",
            "51          tracteur    \n",
            "37          voiture     \n",
            "45          voiture     \n",
            "15          trotinette  \n"
          ],
          "name": "stdout"
        }
      ]
    },
    {
      "cell_type": "markdown",
      "metadata": {
        "id": "OE9ZqeNEF0ux"
      },
      "source": [
        "C'est assez triste non, de penser que le mode de transport est déterminé selon l'âge ? \n",
        "\n",
        "Mais pour aujourd'hui ce sera ainsi !\n",
        "\n",
        "Alors du coup, comment faire afficher ceci :\n",
        "\n",
        "```\n",
        "nom                 prenom              age                 vehicule            \n",
        "--------------------------------------------------------------------------------\n",
        "Durand              Jean-Pierre         32                  voiture             \n",
        "Dupont              Christophe          51                  tracteur            \n",
        "Terta               Henry               37                  voiture             \n",
        "Kapri               Leon                45                  voiture             \n",
        "Lenard              Michel              17                  \n",
        "Lenard              Georges             15                  trotinette          \n",
        "Herpan              stephan             22                  trotinette          \n",
        "Mastic              Brice               61                  tracteur            \n",
        "Pouyeau             Maxime              27                  voiture             \n",
        "Arox                Gilles              51                  tracteur            \n",
        "Follin              Paul                32                  voiture \n",
        "```"
      ]
    },
    {
      "cell_type": "markdown",
      "metadata": {
        "id": "0NZleVZ7GlyI"
      },
      "source": [
        "Vous voyez qu'ici on a créé une liste avec les 3 colonnes de la liste personnes et une colonne de la liste transports. Mais ce n'est pas simplement ajouter une colonne (d'ailleurs les deux listes n'ont pas la même longueur donc ça poserait un problème).\n",
        "\n",
        "La colonne ajoutée est déterminée selon l'âge de la personne, lue dans personnes, et le mode de transport, lu dans transports.\n",
        "\n",
        "Il faut donc **utiliser conjointement les deux tables**."
      ]
    },
    {
      "cell_type": "markdown",
      "metadata": {
        "id": "NMpvL-uNHXAo"
      },
      "source": [
        "<font color=\"orange\" size=\"4\">➽ Essayez !</font>\n",
        "```\n",
        "pour chaque individu dans  la listes personnes :\n",
        "   pour chaque moyen_locomotion dans transports :\n",
        "       si l'age de l'individu et l'age de moyen_locomotion son égaux :\n",
        "          le vehicule de individu est le vehicule de moyen_locomotion\n",
        "Affichons maintenant personnes\n",
        "```"
      ]
    },
    {
      "cell_type": "code",
      "metadata": {
        "colab": {
          "base_uri": "https://localhost:8080/"
        },
        "id": "C9V5hK78bGOT",
        "outputId": "80929f40-c16e-4e38-d124-b68cc8378f4e"
      },
      "source": [
        "for individu in personnes :\n",
        "    for locomotion in transports :\n",
        "        if individu['age'] == locomotion['age'] :\n",
        "            individu['vehicule'] = locomotion['vehicule']\n",
        "printLstDict(personnes,13)"
      ],
      "execution_count": null,
      "outputs": [
        {
          "output_type": "stream",
          "text": [
            "nom          prenom       age          vehicule     \n",
            "----------------------------------------------------\n",
            "Durand       Jean-Pierre  32           voiture      \n",
            "Dupont       Christophe   51           tracteur     \n",
            "Terta        Henry        37           voiture      \n",
            "Kapri        Leon         45           voiture      \n",
            "Lenard       Michel       17           \n",
            "Lenard       Georges      15           trotinette   \n",
            "Herpan       stephan      22           trotinette   \n",
            "Mastic       Brice        61           tracteur     \n",
            "Pouyeau      Maxime       27           voiture      \n",
            "Arox         Gilles       51           tracteur     \n",
            "Follin       Paul         32           voiture      \n",
            "\n"
          ],
          "name": "stdout"
        }
      ]
    },
    {
      "cell_type": "markdown",
      "metadata": {
        "id": "cyl4F9mHe_5y"
      },
      "source": [
        "<font color=\"orange\" size=\"4\">➽ Et si on créait une fonction ?</font>\n"
      ]
    },
    {
      "cell_type": "code",
      "metadata": {
        "id": "7uoa10c0YgHJ"
      },
      "source": [
        "def mergeLstDict(lstDict1:list , lstDict2:list , condition:dict ,cle1:list , cle2:list  ) -> None :\n",
        "    '''\n",
        "    Entrées : \n",
        "       lstDict1 et lstDict2 deux listes de dictionnaires à fusionner\n",
        "       conditions : dictionnaire de paire c1:c2 qui doivent vérifier :\n",
        "            lstDict1[c1] == lstDic2[c2]\n",
        "       cle1 et cle2 sont les listes des clefs qu'on veux sélectionner \n",
        "       dans les 2 lstDict\n",
        "    Sortie :\n",
        "        la fonction renvoie une liste de dictionnaire\n",
        "    '''\n",
        "    lstDict=[]\n",
        "    for dict1 in lstDict1 :                        \n",
        "        for dict2 in lstDict2 :                     \n",
        "            ok = True\n",
        "            for c1,c2 in condition.items():\n",
        "                if dict1[c1] != dict2[c2] :           \n",
        "                    ok = False\n",
        "            if ok :\n",
        "                # on va ajouter un dico dans la liste\n",
        "                dict={}\n",
        "                for c in cle1 :\n",
        "                    dict[c] = dict1[c]\n",
        "                for c in cle2 :\n",
        "                    dict[c] = dict2[c]\n",
        "        lstDict.append(dict)\n",
        "    return lstDict"
      ],
      "execution_count": null,
      "outputs": []
    },
    {
      "cell_type": "code",
      "metadata": {
        "colab": {
          "base_uri": "https://localhost:8080/"
        },
        "id": "-aD5j_KfUb6n",
        "outputId": "22512671-4885-494c-a84c-a651d32c78ad"
      },
      "source": [
        "personnes = readCSV('personnes.csv')\n",
        "merge = mergeLstDict(personnes,transports,{'age':'age'},['nom','prenom','age'],['vehicule'])\n",
        "printLstDict(merge,15)"
      ],
      "execution_count": null,
      "outputs": [
        {
          "output_type": "stream",
          "text": [
            "nombre d'enregistrement lus : 10\n",
            "nom            prenom         age            vehicule       \n",
            "------------------------------------------------------------\n",
            "Durand         Jean-Pierre    32             voiture        \n",
            "Dupont         Christophe     51             tracteur       \n",
            "Terta          Henry          37             voiture        \n",
            "Kapri          Leon           45             voiture        \n",
            "Lenard         Georges        15             trotinette     \n",
            "Herpan         stephan        22             trotinette     \n",
            "Mastic         Brice          61             tracteur       \n",
            "Pouyeau        Maxime         27             voiture        \n",
            "Arox           Gilles         51             tracteur       \n",
            "Follin         Paul           32             voiture        \n",
            "\n"
          ],
          "name": "stdout"
        }
      ]
    },
    {
      "cell_type": "markdown",
      "metadata": {
        "id": "T8AshkVmfcaK"
      },
      "source": [
        "il faudrait penset à ajouter ce merge dans notre libCSV non ?"
      ]
    },
    {
      "cell_type": "markdown",
      "metadata": {
        "id": "qe1_q54GIeHz"
      },
      "source": [
        "<font color=\"orange\" size=\"5\"><b>② A vous !</b></font>"
      ]
    },
    {
      "cell_type": "markdown",
      "metadata": {
        "id": "1QL3vtDPSoT4"
      },
      "source": [
        "Nous allons travailler avec deux tables  : `\n",
        "\n",
        "transLine.csv` à télécharger ici:  [⏬](https://drive.google.com/file/d/10ssjxAlOL48wsUAAYltanHoPpw7YO9gw/view?usp=sharing)\n",
        "\n",
        "ville_100k.csv à télécharger ici: [⏬](https://drive.google.com/file/d/1qTm8x3KpLUJaPdn7wQ1iQm85afKx_Rrv/view?usp=sharing)\n",
        "\n",
        "Sauvegardez sur un disque puis importez dans le notebook."
      ]
    },
    {
      "cell_type": "markdown",
      "metadata": {
        "id": "lwnWGh0EIueR"
      },
      "source": [
        "<font color=\"orange\" size=\"4\">➽ Lire les deux fichiers -> villes et lignes</font>\n"
      ]
    },
    {
      "cell_type": "code",
      "metadata": {
        "id": "X_u9FqxbqFCZ"
      },
      "source": [
        "villes = readCSV('villes_100k.csv')\n",
        "lignes = readCSV('transLine.csv')"
      ],
      "execution_count": null,
      "outputs": []
    },
    {
      "cell_type": "markdown",
      "metadata": {
        "id": "y5TgNzcg3W9q"
      },
      "source": [
        "Examinez le contenu du fichier des villes. Il contient la liste de villes Française (métropole uniquement) de plus de 100000 habitants.\n",
        "\n",
        "Chaque ville est identifiée par un n° (colonne **id**).\n"
      ]
    },
    {
      "cell_type": "code",
      "metadata": {
        "colab": {
          "base_uri": "https://localhost:8080/"
        },
        "id": "MNMLCiLjJLsc",
        "outputId": "53004d82-e70d-4fb3-f586-b9a81fa2c6e6"
      },
      "source": [
        "head(villes)"
      ],
      "execution_count": null,
      "outputs": [
        {
          "output_type": "stream",
          "text": [
            "id                  dep                 nom                 ha                  dens                surf                long                lat                 \n",
            "----------------------------------------------------------------------------------------------------------------------------------------------------------------\n",
            "1                   75                  Paris               2211000             21288               105.4               2.34445             48.86               \n",
            "2                   13                  Marseille           851400              3535                240.62              5.37639             43.2967             \n",
            "3                   69                  Lyon                474900              10117               47.87               4.84139             45.7589             \n",
            "4                   31                  Toulouse            439600              3734                118.3               1.43333             43.6                \n",
            "5                   6                   Nice                344900              4773                71.92               7.25                43.7                \n",
            "6                   44                  Nantes              283300              4371                65.19               -1.55               47.2167             \n",
            "7                   67                  Strasbourg          272100              3472                78.26               7.75                48.5833             \n",
            "8                   34                  Montpellier         253000              4524                56.88               3.88333             43.6                \n",
            "9                   33                  Bordeaux            235900              4845                49.36               -0.566667           44.8333             \n",
            "10                  59                  Lille               225800              6533                34.83               3.06667             50.6333             \n"
          ],
          "name": "stdout"
        }
      ]
    },
    {
      "cell_type": "markdown",
      "metadata": {
        "id": "NMikF2eg9aY9"
      },
      "source": [
        "\n",
        "<font color=\"orange\" size=\"4\">➽ Visualisez le contenu avec head() ?</font>\n",
        "\n"
      ]
    },
    {
      "cell_type": "code",
      "metadata": {
        "colab": {
          "base_uri": "https://localhost:8080/"
        },
        "id": "RBh7m-0y9geD",
        "outputId": "23665feb-e115-43c5-b7cd-54fc589381ee"
      },
      "source": [
        "head(lignes)"
      ],
      "execution_count": null,
      "outputs": [
        {
          "output_type": "stream",
          "text": [
            "orig                dest                dist                \n",
            "------------------------------------------------------------\n",
            "6                   12                  207                 \n",
            "6                   33                  12                  \n",
            "6                   33                  12                  \n",
            "6                   29                  409                 \n",
            "6                   13                  285                 \n",
            "13                  32                  809                 \n",
            "13                  27                  877                 \n",
            "13                  15                  73                  \n",
            "13                  22                  1496                \n",
            "13                  33                  866                 \n"
          ],
          "name": "stdout"
        }
      ]
    },
    {
      "cell_type": "markdown",
      "metadata": {
        "id": "-1C4SMrO3sPT"
      },
      "source": [
        "Dans ce fichier on trouve les liaisons routières (en bus) de la compagnie (fictive) TransLine.\n",
        "\n",
        "Chaque ligne ne comporte que 3 descripteurs : \n",
        "\n",
        "- id de la ville de départ **orig**\n",
        "- id de la ville destination **dest**\n",
        "- distance **dist**\n",
        "\n",
        "un couple origine-destination peut figurer 2 fois dans le fichier si la ligne est desservie 2 fois par jour. Les lignes sont en aller simple (la stratégie de cette compagnie est un peu étrange).\n",
        "\n",
        "Référencer les villes par leur id permet d'avoir un fichier très léger, réduisant l'espace de stockage. Mais du coup, comment retrouver, pour chaque ligne, la ville de départ et la ville de destination ???\n",
        "\n",
        "Il va falloir utiliser, **conjointement**, les deux fichiers, celui des villes et celui des lignes."
      ]
    },
    {
      "cell_type": "markdown",
      "metadata": {
        "id": "yHsxgWwI4KOy"
      },
      "source": [
        "\n",
        "<font color=\"orange\" size=\"4\">➽ Utilisez **conjointement** ces deux fichiers ?</font>\n",
        "\n",
        "Vous devez créer une listes de dictionnaire, qui sera nommée **dessertes**, dans laquelle chaque élément est un dictionnaire contenant 3 clefs :\n",
        "- orig : le nom de la ville (et pas son id)\n",
        "- dest : idem\n",
        "- dist : la distance entre les 2 villes\n",
        "\n",
        "vous ne pouvez pas utiliser notre fonction merge, il va falloir l'adapter"
      ]
    },
    {
      "cell_type": "code",
      "metadata": {
        "id": "coiRU2vhSoT5"
      },
      "source": [
        "dessertes = []\n",
        "for line in lignes:\n",
        "    d = line['dist']\n",
        "    for v in villes:\n",
        "         if v['id']==line['orig']:\n",
        "            orig = v['nom']\n",
        "         if v['id']==line['dest']:\n",
        "            dest = v['nom']\n",
        "    dessertes.append( {'orig':orig,'dest':dest,'dist':d} )"
      ],
      "execution_count": null,
      "outputs": []
    },
    {
      "cell_type": "markdown",
      "metadata": {
        "id": "OMzdxTg-MpXj"
      },
      "source": [
        "✅ vérification"
      ]
    },
    {
      "cell_type": "code",
      "metadata": {
        "id": "zTbBphu-jO1b"
      },
      "source": [
        "assert dessertes == [{'orig': 'Nantes', 'dest': 'Reims', 'dist': '207'}, {'orig': 'Nantes', 'dest': 'Boulogne-Billancourt', 'dist': '12'}, {'orig': 'Nantes', 'dest': 'Boulogne-Billancourt', 'dist': '12'}, {'orig': 'Nantes', 'dest': 'Metz', 'dist': '409'}, {'orig': 'Nantes', 'dest': 'Le Havre', 'dist': '285'}, {'orig': 'Le Havre', 'dest': 'Orléans', 'dist': '809'}, {'orig': 'Le Havre', 'dest': 'Tours', 'dist': '877'}, {'orig': 'Le Havre', 'dest': 'Toulon', 'dist': '73'}, {'orig': 'Le Havre', 'dest': 'Brest', 'dist': '1496'}, {'orig': 'Le Havre', 'dest': 'Boulogne-Billancourt', 'dist': '866'}, {'orig': 'Boulogne-Billancourt', 'dest': 'Toulouse', 'dist': '556'}, {'orig': 'Boulogne-Billancourt', 'dest': 'Montpellier', 'dist': '311'}, {'orig': 'Boulogne-Billancourt', 'dest': 'Mulhouse', 'dist': '448'}, {'orig': 'Boulogne-Billancourt', 'dest': 'Marseille', 'dist': '299'}, {'orig': 'Boulogne-Billancourt', 'dest': 'Paris', 'dist': '559'}, {'orig': 'Paris', 'dest': 'Le Mans', 'dist': '563'}, {'orig': 'Paris', 'dest': 'Marseille', 'dist': '424'}, {'orig': 'Paris', 'dest': 'Mulhouse', 'dist': '1004'}, {'orig': 'Paris', 'dest': 'Besançon', 'dist': '825'}, {'orig': 'Paris', 'dest': 'Lyon', 'dist': '556'}, {'orig': 'Lyon', 'dest': 'Brest', 'dist': '1643'}, {'orig': 'Lyon', 'dest': 'Reims', 'dist': '876'}, {'orig': 'Lyon', 'dest': 'Boulogne-Billancourt', 'dist': '1013'}, {'orig': 'Lyon', 'dest': 'Mulhouse', 'dist': '413'}, {'orig': 'Lyon', 'dest': 'Dijon', 'dist': '585'}, {'orig': 'Dijon', 'dest': 'Montpellier', 'dist': '905'}, {'orig': 'Dijon', 'dest': 'Dijon', 'dist': '666'}, {'orig': 'Dijon', 'dest': 'Clermont-Ferrand', 'dist': '606'}, {'orig': 'Dijon', 'dest': 'Lyon', 'dist': '784'}, {'orig': 'Lyon', 'dest': 'Tours', 'dist': '826'}, {'orig': 'Lyon', 'dest': 'Amiens', 'dist': '676'}, {'orig': 'Lyon', 'dest': 'Saint-Étienne', 'dist': '649'}, {'orig': 'Lyon', 'dest': 'Nîmes', 'dist': '815'}, {'orig': 'Lyon', 'dest': 'Saint-Étienne', 'dist': '649'}, {'orig': 'Saint-Étienne', 'dest': 'Perpignan', 'dist': '191'}, {'orig': 'Saint-Étienne', 'dest': 'Lyon', 'dist': '311'}, {'orig': 'Saint-Étienne', 'dest': 'Perpignan', 'dist': '191'}, {'orig': 'Saint-Étienne', 'dest': 'Rennes', 'dist': '1004'}, {'orig': 'Saint-Étienne', 'dest': 'Orléans', 'dist': '630'}, {'orig': 'Orléans', 'dest': 'Boulogne-Billancourt', 'dist': '681'}, {'orig': 'Orléans', 'dest': 'Villeurbanne', 'dist': '638'}, {'orig': 'Orléans', 'dest': 'Perpignan', 'dist': '559'}, {'orig': 'Orléans', 'dest': 'Nice', 'dist': '894'}, {'orig': 'Orléans', 'dest': 'Dijon', 'dist': '806'}, {'orig': 'Dijon', 'dest': 'Nîmes', 'dist': '808'}, {'orig': 'Dijon', 'dest': 'Toulon', 'dist': '1038'}, {'orig': 'Dijon', 'dest': 'Bordeaux', 'dist': '943'}, {'orig': 'Dijon', 'dest': 'Perpignan', 'dist': '813'}, {'orig': 'Dijon', 'dest': 'Brest', 'dist': '978'}, {'orig': 'Brest', 'dest': 'Lyon', 'dist': '884'}, {'orig': 'Brest', 'dest': 'Tours', 'dist': '306'}, {'orig': 'Brest', 'dest': 'Bordeaux', 'dist': '436'}, {'orig': 'Brest', 'dest': 'Angers', 'dist': '174'}, {'orig': 'Brest', 'dest': 'Besançon', 'dist': '854'}, {'orig': 'Besançon', 'dest': 'Dijon', 'dist': '291'}, {'orig': 'Besançon', 'dest': 'Angers', 'dist': '636'}, {'orig': 'Besançon', 'dest': 'Toulouse', 'dist': '825'}, {'orig': 'Besançon', 'dest': 'Bordeaux', 'dist': '901'}, {'orig': 'Besançon', 'dest': 'Nice', 'dist': '876'}, {'orig': 'Nice', 'dest': 'Orléans', 'dist': '334'}, {'orig': 'Nice', 'dest': 'Nancy', 'dist': '688'}, {'orig': 'Nice', 'dest': 'Nîmes', 'dist': '988'}, {'orig': 'Nice', 'dest': 'Nantes', 'dist': '396'}, {'orig': 'Nice', 'dest': 'Strasbourg', 'dist': '853'}, {'orig': 'Strasbourg', 'dest': 'Nice', 'dist': '458'}, {'orig': 'Strasbourg', 'dest': 'Brest', 'dist': '1185'}, {'orig': 'Strasbourg', 'dest': 'Nancy', 'dist': '505'}, {'orig': 'Strasbourg', 'dest': 'Nîmes', 'dist': '165'}, {'orig': 'Strasbourg', 'dest': 'Le Mans', 'dist': '676'}, {'orig': 'Le Mans', 'dest': 'Reims', 'dist': '803'}, {'orig': 'Le Mans', 'dest': 'Metz', 'dist': '624'}, {'orig': 'Le Mans', 'dest': 'Strasbourg', 'dist': '728'}, {'orig': 'Le Mans', 'dest': 'Metz', 'dist': '624'}, {'orig': 'Le Mans', 'dest': 'Mulhouse', 'dist': '603'}, {'orig': 'Mulhouse', 'dest': 'Dijon', 'dist': '284'}, {'orig': 'Mulhouse', 'dest': 'Bordeaux', 'dist': '661'}, {'orig': 'Mulhouse', 'dest': 'Amiens', 'dist': '814'}, {'orig': 'Mulhouse', 'dest': 'Angers', 'dist': '856'}, {'orig': 'Mulhouse', 'dest': 'Nancy', 'dist': '399'}, {'orig': 'Nancy', 'dest': 'Rennes', 'dist': '746'}, {'orig': 'Nancy', 'dest': 'Nancy', 'dist': '254'}, {'orig': 'Nancy', 'dest': 'Besançon', 'dist': '108'}, {'orig': 'Nancy', 'dest': 'Strasbourg', 'dist': '399'}, {'orig': 'Nancy', 'dest': 'Boulogne-Billancourt', 'dist': '428'}, {'orig': 'Boulogne-Billancourt', 'dest': 'Nantes', 'dist': '125'}, {'orig': 'Boulogne-Billancourt', 'dest': 'Nancy', 'dist': '796'}, {'orig': 'Boulogne-Billancourt', 'dest': 'Metz', 'dist': '838'}, {'orig': 'Boulogne-Billancourt', 'dest': 'Nîmes', 'dist': '853'}, {'orig': 'Boulogne-Billancourt', 'dest': 'Rennes', 'dist': '174'}, {'orig': 'Rennes', 'dest': 'Reims', 'dist': '508'}, {'orig': 'Rennes', 'dest': 'Strasbourg', 'dist': '813'}, {'orig': 'Rennes', 'dest': 'Amiens', 'dist': '399'}, {'orig': 'Rennes', 'dest': 'Le Havre', 'dist': '156'}, {'orig': 'Rennes', 'dest': 'Rennes', 'dist': '196'}, {'orig': 'Rennes', 'dest': 'Nancy', 'dist': '591'}, {'orig': 'Rennes', 'dest': 'Toulon', 'dist': '91'}, {'orig': 'Rennes', 'dest': 'Le Mans', 'dist': '970'}, {'orig': 'Rennes', 'dest': 'Brest', 'dist': '1478'}, {'orig': 'Rennes', 'dest': 'Nancy', 'dist': '591'}, {'orig': 'Nancy', 'dest': 'Lyon', 'dist': '1196'}, {'orig': 'Nancy', 'dest': 'Angers', 'dist': '486'}, {'orig': 'Nancy', 'dest': 'Nantes', 'dist': '411'}, {'orig': 'Nancy', 'dest': 'Saint-Étienne', 'dist': '1185'}, {'orig': 'Nancy', 'dest': 'Orléans', 'dist': '686'}, {'orig': 'Orléans', 'dest': 'Brest', 'dist': '1199'}, {'orig': 'Orléans', 'dest': 'Rennes', 'dist': '888'}, {'orig': 'Orléans', 'dest': 'Strasbourg', 'dist': '568'}, {'orig': 'Orléans', 'dest': 'Toulon', 'dist': '369'}, {'orig': 'Orléans', 'dest': 'Clermont-Ferrand', 'dist': '181'}, {'orig': 'Clermont-Ferrand', 'dest': 'Dijon', 'dist': '415'}, {'orig': 'Clermont-Ferrand', 'dest': 'Tours', 'dist': '721'}, {'orig': 'Clermont-Ferrand', 'dest': 'Boulogne-Billancourt', 'dist': '710'}, {'orig': 'Clermont-Ferrand', 'dest': 'Mulhouse', 'dist': '690'}, {'orig': 'Clermont-Ferrand', 'dest': 'Rouen', 'dist': '886'}, {'orig': 'Rouen', 'dest': 'Mulhouse', 'dist': '798'}, {'orig': 'Rouen', 'dest': 'Metz', 'dist': '819'}, {'orig': 'Rouen', 'dest': 'Angers', 'dist': '341'}, {'orig': 'Rouen', 'dest': 'Reims', 'dist': '618'}, {'orig': 'Rouen', 'dest': 'Boulogne-Billancourt', 'dist': '398'}, {'orig': 'Boulogne-Billancourt', 'dest': 'Amiens', 'dist': '490'}, {'orig': 'Boulogne-Billancourt', 'dest': 'Amiens', 'dist': '490'}, {'orig': 'Boulogne-Billancourt', 'dest': 'Bordeaux', 'dist': '459'}, {'orig': 'Boulogne-Billancourt', 'dest': 'Marseille', 'dist': '477'}, {'orig': 'Marseille', 'dest': 'Toulon', 'dist': '951'}, {'orig': 'Marseille', 'dest': 'Nîmes', 'dist': '721'}, {'orig': 'Marseille', 'dest': 'Toulon', 'dist': '951'}, {'orig': 'Marseille', 'dest': 'Clermont-Ferrand', 'dist': '399'}, {'orig': 'Marseille', 'dest': 'Rennes', 'dist': '306'}, {'orig': 'Rennes', 'dest': 'Besançon', 'dist': '638'}, {'orig': 'Rennes', 'dest': 'Clermont-Ferrand', 'dist': '490'}, {'orig': 'Rennes', 'dest': 'Nantes', 'dist': '653'}, {'orig': 'Rennes', 'dest': 'Besançon', 'dist': '638'}, {'orig': 'Besançon', 'dest': 'Reims', 'dist': '225'}, {'orig': 'Besançon', 'dest': 'Clermont-Ferrand', 'dist': '643'}, {'orig': 'Besançon', 'dest': 'Tours', 'dist': '723'}, {'orig': 'Besançon', 'dest': 'Perpignan', 'dist': '973'}, {'orig': 'Besançon', 'dest': 'Mulhouse', 'dist': '254'}, {'orig': 'Mulhouse', 'dest': 'Marseille', 'dist': '461'}, {'orig': 'Mulhouse', 'dest': 'Marseille', 'dist': '461'}, {'orig': 'Mulhouse', 'dest': 'Aix-en-Provence', 'dist': '431'}, {'orig': 'Mulhouse', 'dest': 'Clermont-Ferrand', 'dist': '441'}, {'orig': 'Mulhouse', 'dest': 'Grenoble', 'dist': '239'}, {'orig': 'Grenoble', 'dest': 'Saint-Étienne', 'dist': '426'}, {'orig': 'Grenoble', 'dest': 'Besançon', 'dist': '771'}, {'orig': 'Grenoble', 'dest': 'Lyon', 'dist': '503'}, {'orig': 'Grenoble', 'dest': 'Le Mans', 'dist': '800'}, {'orig': 'Grenoble', 'dest': 'Dijon', 'dist': '676'}, {'orig': 'Dijon', 'dest': 'Mulhouse', 'dist': '560'}, {'orig': 'Dijon', 'dest': 'Le Havre', 'dist': '334'}, {'orig': 'Dijon', 'dest': 'Lille', 'dist': '388'}, {'orig': 'Dijon', 'dest': 'Besançon', 'dist': '480'}, {'orig': 'Dijon', 'dest': 'Mulhouse', 'dist': '560'}, {'orig': 'Mulhouse', 'dest': 'Nantes', 'dist': '541'}, {'orig': 'Mulhouse', 'dest': 'Bordeaux', 'dist': '681'}, {'orig': 'Mulhouse', 'dest': 'Nice', 'dist': '1013'}, {'orig': 'Mulhouse', 'dest': 'Clermont-Ferrand', 'dist': '388'}, {'orig': 'Mulhouse', 'dest': 'Aix-en-Provence', 'dist': '848'}, {'orig': 'Aix-en-Provence', 'dest': 'Lyon', 'dist': '448'}, {'orig': 'Aix-en-Provence', 'dest': 'Brest', 'dist': '1246'}, {'orig': 'Aix-en-Provence', 'dest': 'Nantes', 'dist': '941'}, {'orig': 'Aix-en-Provence', 'dest': 'Aix-en-Provence', 'dist': '611'}, {'orig': 'Aix-en-Provence', 'dest': 'Limoges', 'dist': '798'}, {'orig': 'Limoges', 'dest': 'Villeurbanne', 'dist': '864'}, {'orig': 'Limoges', 'dest': 'Reims', 'dist': '445'}, {'orig': 'Limoges', 'dest': 'Orléans', 'dist': '351'}, {'orig': 'Limoges', 'dest': 'Mulhouse', 'dist': '911'}, {'orig': 'Mulhouse', 'dest': 'Reims', 'dist': '313'}, {'orig': 'Mulhouse', 'dest': 'Caen', 'dist': '168'}, {'orig': 'Mulhouse', 'dest': 'Lyon', 'dist': '743'}, {'orig': 'Mulhouse', 'dest': 'Lille', 'dist': '318'}, {'orig': 'Mulhouse', 'dest': 'Lille', 'dist': '318'}, {'orig': 'Lille', 'dest': 'Montpellier', 'dist': '739'}, {'orig': 'Lille', 'dest': 'Villeurbanne', 'dist': '423'}, {'orig': 'Lille', 'dest': 'Limoges', 'dist': '778'}, {'orig': 'Lille', 'dest': 'Nîmes', 'dist': '670'}, {'orig': 'Lille', 'dest': 'Boulogne-Billancourt', 'dist': '409'}]"
      ],
      "execution_count": null,
      "outputs": []
    },
    {
      "cell_type": "markdown",
      "metadata": {
        "id": "Emt8NHeXJ34X"
      },
      "source": [
        "<font color=\"orange\" size=\"4\">➽ Affichez le head de dessertes (ajustez la largeur des colonnes...)</font>"
      ]
    },
    {
      "cell_type": "code",
      "metadata": {
        "colab": {
          "base_uri": "https://localhost:8080/"
        },
        "id": "YFNmgzbVJ8R-",
        "outputId": "5a3fa3cd-79ed-4488-c995-bc7f199d0b85"
      },
      "source": [
        "head(dessertes,l=40)"
      ],
      "execution_count": null,
      "outputs": [
        {
          "output_type": "stream",
          "text": [
            "orig                                    dest                                    dist                                    \n",
            "------------------------------------------------------------------------------------------------------------------------\n",
            "Nantes                                  Reims                                   207                                     \n",
            "Nantes                                  Boulogne-Billancourt                    12                                      \n",
            "Nantes                                  Boulogne-Billancourt                    12                                      \n",
            "Nantes                                  Metz                                    409                                     \n",
            "Nantes                                  Le Havre                                285                                     \n",
            "Le Havre                                Orléans                                 809                                     \n",
            "Le Havre                                Tours                                   877                                     \n",
            "Le Havre                                Toulon                                  73                                      \n",
            "Le Havre                                Brest                                   1496                                    \n",
            "Le Havre                                Boulogne-Billancourt                    866                                     \n"
          ],
          "name": "stdout"
        }
      ]
    },
    {
      "cell_type": "markdown",
      "metadata": {
        "id": "6xjviyRFKO4e"
      },
      "source": [
        "<font color=\"orange\" size=\"4\">➽ Affichez le nombre de lignes et la distance moyenne</font>\n",
        "\n",
        " ```\n",
        "nombre de lignes : 176\n",
        "distance moyenne : 614.0056818181819\n",
        "```"
      ]
    },
    {
      "cell_type": "code",
      "metadata": {
        "colab": {
          "base_uri": "https://localhost:8080/"
        },
        "id": "B9c_bGqnKO4m",
        "outputId": "6af4b5f5-04e0-4d47-f8b7-0b0467cdfae5"
      },
      "source": [
        "nb_lignes = len(dessertes)\n",
        "print(\"nombre de lignes :\",nb_lignes)\n",
        "dist_totale = 0\n",
        "for ligne in dessertes :\n",
        "    dist_totale += int(ligne['dist'])\n",
        "print('distance moyenne :',dist_totale/nb_lignes)"
      ],
      "execution_count": null,
      "outputs": [
        {
          "output_type": "stream",
          "text": [
            "nombre de lignes : 176\n",
            "distance moyenne : 614.0056818181819\n"
          ],
          "name": "stdout"
        }
      ]
    },
    {
      "cell_type": "markdown",
      "metadata": {
        "id": "K9HpwnYHC6-C"
      },
      "source": [
        "Vous avez remarqué que nous avons été obligé de convertir dist en integer. Dans le fichier, dist est une chaîne de caractère, nous préfèrerions que ce soit des entiers...."
      ]
    },
    {
      "cell_type": "markdown",
      "metadata": {
        "id": "tj4TZj4VDJU7"
      },
      "source": [
        "<font color=\"orange\" size=\"4\">➽ Modifiez la liste dessertes, pour que les valeurs de clefs 'dist' soient des entiers</font>"
      ]
    },
    {
      "cell_type": "code",
      "metadata": {
        "colab": {
          "base_uri": "https://localhost:8080/"
        },
        "id": "xAbRw14iDUqe",
        "outputId": "f3c7203a-b07d-444e-86e5-e277d6d2f430"
      },
      "source": [
        "for ligne in dessertes :\n",
        "    ligne['dist'] = int(ligne['dist'])\n",
        "head(dessertes)"
      ],
      "execution_count": null,
      "outputs": [
        {
          "output_type": "stream",
          "text": [
            "orig                dest                dist                \n",
            "------------------------------------------------------------\n",
            "Nantes              Reims               207                 \n",
            "Nantes              Boulogne-Billancour 12                  \n",
            "Nantes              Boulogne-Billancour 12                  \n",
            "Nantes              Metz                409                 \n",
            "Nantes              Le Havre            285                 \n",
            "Le Havre            Orléans             809                 \n",
            "Le Havre            Tours               877                 \n",
            "Le Havre            Toulon              73                  \n",
            "Le Havre            Brest               1496                \n",
            "Le Havre            Boulogne-Billancour 866                 \n"
          ],
          "name": "stdout"
        }
      ]
    },
    {
      "cell_type": "markdown",
      "metadata": {
        "id": "Q13Vr3zABnlm"
      },
      "source": [
        "<font color=\"orange\" size=\"4\">➽ Affichez les dessertes au départ de Paris</font>"
      ]
    },
    {
      "cell_type": "code",
      "metadata": {
        "colab": {
          "base_uri": "https://localhost:8080/"
        },
        "id": "TXfEMj87Bnlw",
        "outputId": "9e7897a1-4539-4e43-9d68-ce827eec30b5"
      },
      "source": [
        "desserteParis = recherche(dessertes,'orig','Paris')\n",
        "head(desserteParis)"
      ],
      "execution_count": null,
      "outputs": [
        {
          "output_type": "stream",
          "text": [
            "orig                dest                dist                \n",
            "------------------------------------------------------------\n",
            "Paris               Le Mans             563                 \n",
            "Paris               Marseille           424                 \n",
            "Paris               Mulhouse            1004                \n",
            "Paris               Besançon            825                 \n",
            "Paris               Lyon                556                 \n"
          ],
          "name": "stdout"
        }
      ]
    },
    {
      "cell_type": "markdown",
      "metadata": {
        "id": "1l73y1LCK-oY"
      },
      "source": [
        "<font color=\"orange\" size=\"4\">➽ Affichez les dessertes au départ de Paris par distance croissantes\n",
        "</font>"
      ]
    },
    {
      "cell_type": "code",
      "metadata": {
        "colab": {
          "base_uri": "https://localhost:8080/"
        },
        "id": "73_7yE0YK-oZ",
        "outputId": "6df37e2c-6ae3-46dc-8001-903793be0d56"
      },
      "source": [
        "def cleDist(dic) :\n",
        "    return dic['dist']\n",
        "\n",
        "desserteParis = recherche(dessertes,'orig','Paris')\n",
        "triLstDict(desserteParis,cleDist,reverse=True)\n",
        "head(desserteParis)"
      ],
      "execution_count": null,
      "outputs": [
        {
          "output_type": "stream",
          "text": [
            "orig                dest                dist                \n",
            "------------------------------------------------------------\n",
            "Paris               Besançon            825                 \n",
            "Paris               Le Mans             563                 \n",
            "Paris               Lyon                556                 \n",
            "Paris               Marseille           424                 \n",
            "Paris               Mulhouse            1004                \n"
          ],
          "name": "stdout"
        }
      ]
    },
    {
      "cell_type": "markdown",
      "metadata": {
        "id": "AtOIOFxqgbGC"
      },
      "source": [
        "<font color=\"orange\" size=\"4\">➽ Affichez les TRAJETS au départ de Paris à destination de Nantes avec une escale\n",
        "\n",
        "---\n",
        "\n",
        "\n",
        "</font>"
      ]
    },
    {
      "cell_type": "code",
      "metadata": {
        "colab": {
          "base_uri": "https://localhost:8080/"
        },
        "id": "blh89XbwgbGj",
        "outputId": "fe9f6979-ea31-4949-f1f2-8c8931e390a4"
      },
      "source": [
        "desserteParis = recherche(dessertes,'orig','Paris')\n",
        "triLstDict(desserteParis,cleDist,reverse=True)\n",
        "\n",
        "destFinale = 'Nantes'\n",
        "\n",
        "trajet = []\n",
        "for line in desserteParis :\n",
        "    dest = line['dest']\n",
        "    desserte2 = recherche(dessertes,'orig', dest) # liste des desserte depuis dest\n",
        "    for dest2 in desserte2 :\n",
        "        if dest2['dest']==destFinale: trajet.append('Paris - '+dest+' - '+destFinale)\n",
        "print(trajet)\n"
      ],
      "execution_count": null,
      "outputs": [
        {
          "output_type": "stream",
          "text": [
            "['Paris - Mulhouse - Nantes']\n"
          ],
          "name": "stdout"
        }
      ]
    },
    {
      "cell_type": "markdown",
      "metadata": {
        "id": "W5nRMHZJkbyP"
      },
      "source": [
        "<font color=\"orange\" size=\"4\">➽ Affichez la même information mais pour Paris-Dijon et avec la distance totale\n",
        "\n",
        "Vous devriez trouver :\n",
        "```\n",
        "Paris - Besançon - Dijon (1116)\n",
        "Paris - Lyon - Dijon (1141)\n",
        "Paris - Mulhouse - Dijon (1288)\n",
        "```\n"
      ]
    },
    {
      "cell_type": "code",
      "metadata": {
        "colab": {
          "base_uri": "https://localhost:8080/"
        },
        "id": "AfZTJUeXka_R",
        "outputId": "0e4ec4b9-c2c5-42a6-a011-ef9e65df40d3"
      },
      "source": [
        "desserteParis = recherche(dessertes,'orig','Paris')\n",
        "triLstDict(desserteParis,cleDist,reverse=True)\n",
        "\n",
        "destFinale = 'Dijon'\n",
        "\n",
        "trajet = []\n",
        "for line in desserteParis :\n",
        "    dest = line['dest']\n",
        "    distanceTotal = int(line['dist'])\n",
        "    desserte2 = recherche(dessertes,'orig', dest) # liste des desserte depuis dest\n",
        "    for dest2 in desserte2 :\n",
        "        if dest2['dest']==destFinale: \n",
        "            distanceTotal += int(dest2['dist'])\n",
        "            trajet.append('Paris - '+dest+' - '+destFinale+' ('+str(distanceTotal)+')')\n",
        "for t in trajet :\n",
        "    print(t)\n"
      ],
      "execution_count": null,
      "outputs": [
        {
          "output_type": "stream",
          "text": [
            "Paris - Besançon - Dijon (1116)\n",
            "Paris - Lyon - Dijon (1141)\n",
            "Paris - Mulhouse - Dijon (1288)\n"
          ],
          "name": "stdout"
        }
      ]
    },
    {
      "cell_type": "markdown",
      "metadata": {
        "id": "ZfmUzQHQiFnm"
      },
      "source": [
        "<font color=\"orange\" size=\"6\"><b>Deuxième partie : Tri sur deux critères</b></font>"
      ]
    },
    {
      "cell_type": "markdown",
      "metadata": {
        "id": "fuWPRbcAiNt3"
      },
      "source": [
        "Il arrive parfois qu'on veuille trier sur 2 ou même plus de critères. Voyons un exemple dans un ca simple :"
      ]
    },
    {
      "cell_type": "code",
      "metadata": {
        "colab": {
          "base_uri": "https://localhost:8080/"
        },
        "id": "WtIYmsFjiWDH",
        "outputId": "29a48b52-a383-4c2d-c881-07879c405488"
      },
      "source": [
        "personnes = readCSV('personnes.csv')\n",
        "\n",
        "def cle_tri_nom(dic) :\n",
        "    return dic['nom']\n",
        "\n",
        "def cle_tri_age(dic) :\n",
        "    return dic['age']\n",
        "\n",
        "print('le fichier lu non trié :')\n",
        "printLstDict(personnes,14)\n",
        "\n",
        "triLstDict(personnes,cle_tri_nom)\n",
        "print('le fichier trié par noms :')\n",
        "printLstDict(personnes,14)\n",
        "\n",
        "triLstDict(personnes,cle_tri_age)\n",
        "print('le fichier trié par age :')\n",
        "printLstDict(personnes,14)"
      ],
      "execution_count": null,
      "outputs": [
        {
          "output_type": "stream",
          "text": [
            "le fichier lu non trié :\n",
            "nom           prenom        age           \n",
            "------------------------------------------\n",
            "Durand        Jean-Pierre   32            \n",
            "Dupont        Christophe    51            \n",
            "Terta         Henry         37            \n",
            "Kapri         Leon          45            \n",
            "Lenard        Michel        17            \n",
            "Lenard        Georges       15            \n",
            "Herpan        stephan       22            \n",
            "Mastic        Brice         61            \n",
            "Pouyeau       Maxime        27            \n",
            "Arox          Gilles        51            \n",
            "Follin        Paul          32            \n",
            "\n",
            "le fichier trié par noms :\n",
            "nom           prenom        age           \n",
            "------------------------------------------\n",
            "Arox          Gilles        51            \n",
            "Dupont        Christophe    51            \n",
            "Durand        Jean-Pierre   32            \n",
            "Follin        Paul          32            \n",
            "Herpan        stephan       22            \n",
            "Kapri         Leon          45            \n",
            "Lenard        Michel        17            \n",
            "Lenard        Georges       15            \n",
            "Mastic        Brice         61            \n",
            "Pouyeau       Maxime        27            \n",
            "Terta         Henry         37            \n",
            "\n",
            "le fichier trié par age :\n",
            "nom           prenom        age           \n",
            "------------------------------------------\n",
            "Lenard        Georges       15            \n",
            "Lenard        Michel        17            \n",
            "Herpan        stephan       22            \n",
            "Pouyeau       Maxime        27            \n",
            "Durand        Jean-Pierre   32            \n",
            "Follin        Paul          32            \n",
            "Terta         Henry         37            \n",
            "Kapri         Leon          45            \n",
            "Arox          Gilles        51            \n",
            "Dupont        Christophe    51            \n",
            "Mastic        Brice         61            \n",
            "\n"
          ],
          "name": "stdout"
        }
      ]
    },
    {
      "cell_type": "markdown",
      "metadata": {
        "id": "O6p-vNBTj1VB"
      },
      "source": [
        "Nous allons refaire maintenant le tri par nom :\n",
        "\n"
      ]
    },
    {
      "cell_type": "code",
      "metadata": {
        "colab": {
          "base_uri": "https://localhost:8080/"
        },
        "id": "bDd9pgz4j9qf",
        "outputId": "a171d5c3-6fd9-4a5d-9aa8-3cefa1c1ae71"
      },
      "source": [
        "triLstDict(personnes,cle_tri_nom)\n",
        "print('le fichier trié par noms :')\n",
        "printLstDict(personnes,14)"
      ],
      "execution_count": null,
      "outputs": [
        {
          "output_type": "stream",
          "text": [
            "le fichier trié par noms :\n",
            "nom           prenom        age           \n",
            "------------------------------------------\n",
            "Arox          Gilles        51            \n",
            "Dupont        Christophe    51            \n",
            "Durand        Jean-Pierre   32            \n",
            "Follin        Paul          32            \n",
            "Herpan        stephan       22            \n",
            "Kapri         Leon          45            \n",
            "Lenard        Georges       15            \n",
            "Lenard        Michel        17            \n",
            "Mastic        Brice         61            \n",
            "Pouyeau       Maxime        27            \n",
            "Terta         Henry         37            \n",
            "\n"
          ],
          "name": "stdout"
        }
      ]
    },
    {
      "cell_type": "markdown",
      "metadata": {
        "id": "Z1KyUgr9m09h"
      },
      "source": [
        "Vous pensez certainement que le tri par nom donne le même résultat la seconde fois que la première ?\n",
        "\n",
        "Si c'est le cas... regardez bien :<center>\n",
        "\n",
        "![image.png](data:image/png;base64,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)\n",
        "\n",
        "</center>"
      ]
    },
    {
      "cell_type": "markdown",
      "metadata": {
        "id": "legZuz33kFnB"
      },
      "source": [
        "\n",
        "Bizzare non ? La première fois qu'on a trié par nom, Michel était avant Georges, et la seconde fois, avec la même clef de tri, Georges est avant Michel.\n",
        "\n",
        "En réalité, lors du tri par noms, il n'y a aucune raison de mettre l'un avant ou après l'autre. Alors le tri les laisse dans le même ordre que avant le tri.\n",
        "\n",
        "**Dans le 1er cas** avant le tri, on avait seulement lu le fichier, et Michel était avant Georges.\n",
        "\n",
        "**Dans le 2d cas** avant le tri, on avait trié par age, et Michel était passé après Georges.\n",
        "\n",
        "Dans les deux cas, l'ordre des enregistrements dont la clef de tri est identique sera préservé."
      ]
    },
    {
      "cell_type": "markdown",
      "metadata": {
        "id": "JBLx9pculf4d"
      },
      "source": [
        ">  <font color=\"darkyellow\"><b>la fonction de tri de Python vérifie une propriété très\n",
        "importante : **la stabilité**. <br>\n",
        "> Cela signifie que lors d’un tri, si plusieurs enregistrement ont la\n",
        "même clé, l’ordre initial des enregistrements est conservé</b></font> \n",
        "\n",
        "\n"
      ]
    },
    {
      "cell_type": "markdown",
      "metadata": {
        "id": "qVXY0x4undhM"
      },
      "source": [
        "Ainsi, le tri par nom, et secondairement, en cas d'homonyme, sur l'âge, est rendu possible en triant une première fois sur l'âge (critère secondaire) puis sur le nom (critère principal).\n",
        "\n",
        "Si on avait 3 critères, par exemple, Nom, en cas d'homonymie, classe sur le prénom, et en cas de même nom+prénom, l'âge, on procèderait de même :\n",
        "\n",
        "> 1) tri sur l'age en 1er<br>\n",
        "> 2) tri sur le prénom<br>\n",
        "> 3) tri sur le nom en dernier (critère principal)\n",
        "\n",
        "Le sens croissant décroissant peut être différent lors de chaque tri, mais toujours, le tri suivant conservera l'ordre du précédent pour les enregistrement ayant même clef."
      ]
    },
    {
      "cell_type": "markdown",
      "metadata": {
        "id": "Ge3KRa9bZ_qP"
      },
      "source": [
        "\n",
        "<center>\n",
        "\n",
        "---\n",
        "\n",
        "**Auteur** Jean-Louis Thirot - Lycée Bertrand d'Argentré - Vitré (35)\n",
        "\n",
        "Publié sous licence CC BY-NC-SA\n",
        "\n",
        "\n",
        "---\n",
        "<a rel=\"license\" href=\"http://creativecommons.org/licenses/by-nc-sa/4.0/\"><img alt=\"Creative Commons License\" style=\"border-width:0\" width=\"200\" src=\"https://s2.qwant.com/thumbr/700x0/f/9/436dcce5e02185c0b2e1b0e7a969aa81d7b0438d0a7f2eaee89abb9661b70b/cc-by-nc-sa.svg_.png?u=http%3A%2F%2Fopensiddur.org%2Fwp-content%2Fuploads%2F2011%2F03%2Fcc-by-nc-sa.svg_.png&q=0&b=1&p=0&a=1\" /></a><br />This work is licensed under a <a rel=\"license\" href=\"http://creativecommons.org/licenses/by-nc-sa/4.0/\">Creative Commons Attribution-NonCommercial-ShareAlike 4.0 International License</a>. "
      ]
    }
  ]
}