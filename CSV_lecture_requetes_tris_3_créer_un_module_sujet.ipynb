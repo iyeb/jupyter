{
  "nbformat": 4,
  "nbformat_minor": 0,
  "metadata": {
    "kernelspec": {
      "display_name": "Python 3",
      "language": "python",
      "name": "python3"
    },
    "language_info": {
      "codemirror_mode": {
        "name": "ipython",
        "version": 3
      },
      "file_extension": ".py",
      "mimetype": "text/x-python",
      "name": "python",
      "nbconvert_exporter": "python",
      "pygments_lexer": "ipython3",
      "version": "3.7.6"
    },
    "colab": {
      "name": "CSV lecture requetes tris 3: créer un module - sujet.ipynb",
      "provenance": [],
      "collapsed_sections": []
    }
  },
  "cells": [
    {
      "cell_type": "markdown",
      "metadata": {
        "id": "zN5nK2Y2W6eo"
      },
      "source": [
        "<center><font color=\"darkyellow\" size=\"4\"><b> ⚠️⚠️⚠️   &nbsp; &nbsp;! Pensez à faire une copie <u>dans votre drive</u> avant de commencer !  &nbsp; &nbsp;⚠️⚠️⚠️</b></font></center>"
      ]
    },
    {
      "cell_type": "markdown",
      "metadata": {
        "id": "Ryw8g2QaSoT0"
      },
      "source": [
        "<center><font color=\"orange\" size=\"6\"><b>Les données structurées au format CSV (1ère partie)\n",
        "\n",
        "<font color=\"orange\" size=\"6\">① Lecture &nbsp;&nbsp;&nbsp;&nbsp;&nbsp;&nbsp;&nbsp;\n",
        "② requêtes &nbsp;&nbsp;&nbsp;&nbsp;&nbsp;&nbsp;&nbsp;\n",
        " ③ Tris</b></font></center>\n",
        "\n"
      ]
    },
    {
      "cell_type": "markdown",
      "metadata": {
        "id": "Iw39n7Yy_Q3m"
      },
      "source": [
        "\n",
        "\n",
        "---\n",
        "\n",
        "<center><font color=\"orange\" size=\"6\"><b>TP d'application (suite)</b></font></center>\n",
        "\n",
        "\n",
        "---\n",
        "\n"
      ]
    },
    {
      "cell_type": "markdown",
      "metadata": {
        "id": "odcVYuHIGkBK"
      },
      "source": [
        "<font color=\"orange\" size=\"6\">➽ Importez la librairies libCSV0</font>\n",
        "\n",
        "Téléchargez puis importez le fichier [libCSV0.py ](https://drive.google.com/file/d/1bQ2PRAS0RisbcY22vFs_cdXSSYqh13z2/view?usp=sharing)\n",
        "\n",
        "Il contient une librairie (très limitée) de fonctions de traitement de listes de dictionnaires. Nous examinerons son contenu ultérieurement, nous allons d'abord voir comment utiliser une librairie en s'appuyant seulement sur help()\n",
        "\n",
        "renommez le correctement (il y a une erreur dans le nom du fichier)"
      ]
    },
    {
      "cell_type": "code",
      "metadata": {
        "colab": {
          "base_uri": "https://localhost:8080/"
        },
        "id": "vphOFGAeHnOE",
        "outputId": "daac64b4-3dd6-4d84-f9a6-0e44ad616977"
      },
      "source": [
        "from  libCSV0 import *\n",
        "help(readCSV)"
      ],
      "execution_count": null,
      "outputs": [
        {
          "output_type": "stream",
          "text": [
            "Help on function readCSV in module libCSV0:\n",
            "\n",
            "readCSV(filename: str) -> list\n",
            "    Entrée : le nom d'un fichier CSV (str)\n",
            "    Sortie :  une listes de dictionnaires contenant les enregistrements\n",
            "\n"
          ],
          "name": "stdout"
        }
      ]
    },
    {
      "cell_type": "markdown",
      "metadata": {
        "id": "UJ3XxeT46E4e"
      },
      "source": [
        "⏬ Téléchargez maintenant les fichiers [villes.csv](https://drive.google.com/file/d/1Zi_spru-r9J1TMTiT8lw18wTNya8hClw/view?usp=sharing) et [personnes.csv](https://drive.google.com/file/d/1feD9WnZdobmybqzUbIIr0mXH0OPk7nY2/view?usp=sharing) puis importez les dans la session. \n"
      ]
    },
    {
      "cell_type": "markdown",
      "metadata": {
        "id": "6CtJ_thhXR8c"
      },
      "source": [
        "<font color=\"orange\" size=\"5\"><b><center>Deuxième partie : des \n",
        "fonctions génériques</center></b></font>\n",
        "\n",
        "Dans cette seconde partie, nous allons simplifier les traitements en écrivant quelques fonctions génériques."
      ]
    },
    {
      "cell_type": "code",
      "metadata": {
        "id": "7deKgCN8afRf",
        "colab": {
          "base_uri": "https://localhost:8080/"
        },
        "outputId": "14050e68-d161-4977-df26-0fe4a1b646ca"
      },
      "source": [
        "# On commence par relire le 2 fichier comme à l'origine :\n",
        "villes = readCSV('villes.csv')\n",
        "personnes = readCSV('personnes.csv')\n"
      ],
      "execution_count": null,
      "outputs": [
        {
          "output_type": "stream",
          "text": [
            "nombre d'enregistrement lus : 36700\n",
            "nombre d'enregistrement lus : 11\n"
          ],
          "name": "stdout"
        }
      ]
    },
    {
      "cell_type": "markdown",
      "metadata": {
        "id": "ygpKAM9fYJsJ"
      },
      "source": [
        "<font color=\"orange\" size=\"4\">➽ écrire une fonction size(lstDict) qui renvoi un tuple (nombre de lignes,nombre de colonnes) de la liste de dictionnaires</font>"
      ]
    },
    {
      "cell_type": "code",
      "metadata": {
        "id": "yDO8twAua9Eq"
      },
      "source": [
        "def size( lstDict:list ) -> tuple :\n",
        "    '''\n",
        "    Entrée : une liste de dictionnaires\n",
        "    Sortie : tuple : (nb_d_enregistrements,nb_de_colonnes)\n",
        "    Si la liste est vide on renvoie (0,0)\n",
        "    '''\n",
        "    pass\n"
      ],
      "execution_count": null,
      "outputs": []
    },
    {
      "cell_type": "markdown",
      "metadata": {
        "id": "J0ZxA-cybOke"
      },
      "source": [
        "✅ vérification"
      ]
    },
    {
      "cell_type": "code",
      "metadata": {
        "id": "9Q4S3FJRbOkg"
      },
      "source": [
        "assert size(villes) == (36700,12)\n",
        "assert size([]) == (0,0)"
      ],
      "execution_count": null,
      "outputs": []
    },
    {
      "cell_type": "markdown",
      "metadata": {
        "id": "iXPG3Aqtbd9y"
      },
      "source": [
        "<font color=\"orange\" size=\"4\">➽ écrire une fonction head(lstDict,n = 10) </font>\n",
        "\n",
        "qui AFFICHE EN CONSOLE les n premiers enregistrements\n",
        "\n",
        "par défaut n vaut 10"
      ]
    },
    {
      "cell_type": "code",
      "metadata": {
        "id": "kKDlQnBUbd9z"
      },
      "source": [
        "def head( lstDict:list , n=10 ) -> None :\n",
        "    '''\n",
        "    Entrée : une liste de dictionnaires, et un entier optionnel n\n",
        "    par défaut n = 10\n",
        "    Sortie en console : affiche les n premier dictionnaires si la longueur de la liste \n",
        "    est supérieur à n, et affiche toute la liste sinon\n",
        "    '''\n",
        "    pass\n"
      ],
      "execution_count": null,
      "outputs": []
    },
    {
      "cell_type": "code",
      "metadata": {
        "id": "lP0mO85RzIGQ"
      },
      "source": [
        "# utilisation :\n",
        "head(villes)\n",
        "print()\n",
        "head(personnes,3)"
      ],
      "execution_count": null,
      "outputs": []
    },
    {
      "cell_type": "markdown",
      "metadata": {
        "id": "z6v1f4N4epAy"
      },
      "source": [
        "L'affichage est laid !\n",
        "\n",
        "Pour améliorer cela, vous avez des fonction dans la librairie libCSV0 que vous avez importé plus haut.\n",
        "\n",
        "Attention, lisez attentivement et utilisez les fonction à bon escient..."
      ]
    },
    {
      "cell_type": "code",
      "metadata": {
        "colab": {
          "base_uri": "https://localhost:8080/"
        },
        "id": "NWZ7B0Nq5g4X",
        "outputId": "e0baa972-e7f5-49a6-dafe-75c9b85c66ce"
      },
      "source": [
        "help(printDict)\n",
        "help(printLstDict)"
      ],
      "execution_count": null,
      "outputs": [
        {
          "output_type": "stream",
          "text": [
            "Help on function printDict in module libCSV0:\n",
            "\n",
            "printDict(dico: dict, l: int) -> None\n",
            "    Procédure qui prend en paramètre un dictionnaire et un entier l\n",
            "    Affiche les valeurs du dictionnaire avec une largeur fixe égale à l\n",
            "    Les valeurs sont tronquée à longueur l-1 si elle dépasse la largeur l\n",
            "    \n",
            "    Exemple :\n",
            "    >>> dict= { 'nom':'GELINET' , 'prenom':'louis'}\n",
            "    >>> printDict(dict,20)\n",
            "    GELINET          Louis\n",
            "\n",
            "Help on function printLstDict in module libCSV0:\n",
            "\n",
            "printLstDict(lstDict: dict, l: int) -> None\n",
            "    Procédure qui prend en paramètre une liste de dictionnaires\n",
            "    et 1 paramètres entier optionnel l\n",
            "    Affiche toutes les valeurs de tous les dictionnaires de la liste avec une largeur fixe égale à l\n",
            "    Les valeurs sont tronquée à longueur l-1 si elle dépasse la largeur l\n",
            "    si la liste est vide : retourne sans rien faire\n",
            "    \n",
            "    ATTENTION : affiche TOUT le ficher, éviter avec de grandes listes de dictionnaires !\n",
            "\n"
          ],
          "name": "stdout"
        }
      ]
    },
    {
      "cell_type": "markdown",
      "metadata": {
        "id": "fvOtGOx8gBsY"
      },
      "source": [
        "<font color=\"orange\" size=\"4\">➽ Réécrire la fonction head(lstDict,n = 10, l=20) en utilisant les 2 fonctions ci-dessus</font>\n",
        "\n",
        "par défaut n vaut 10 et l=20"
      ]
    },
    {
      "cell_type": "code",
      "metadata": {
        "id": "IsxtWrljfunO"
      },
      "source": [
        "def head(lstDict,n=10,l=20) -> None:\n",
        "    '''\n",
        "    Procédure qui prend en paramètre une liste de dictionnaires\n",
        "    et 2 paramètres entiers optionnels n et l\n",
        "    Affiche les n premières valeurs du dictionnaire avec une largeur fixe égale à l\n",
        "    Les valeurs sont tronquée à longueur l-1 si elle dépasse la largeur l\n",
        "    si n est supérieur a la longueur de la liste, toute la liste est affichée.\n",
        "    si la liste est vide : retourne sans rien faire\n",
        "    '''\n",
        "    pass"
      ],
      "execution_count": null,
      "outputs": []
    },
    {
      "cell_type": "code",
      "metadata": {
        "id": "JkTy6MZki_DZ"
      },
      "source": [
        "# ou, si on veux afficher toute la liste :\n",
        "def printLstDict(lstDict:dict,l:int) -> None :\n",
        "    '''\n",
        "    Procédure qui prend en paramètre une liste de dictionnaires\n",
        "    et 1 paramètres entier optionnel l\n",
        "    Affiche les valeurs du dictionnaire avec une largeur fixe égale à l\n",
        "    Les valeurs sont tronquées à longueur l-1 si elles dépassent la largeur l\n",
        "    si la liste est vide : retourne sans rien faire\n",
        "    '''\n",
        "    pass"
      ],
      "execution_count": null,
      "outputs": []
    },
    {
      "cell_type": "code",
      "metadata": {
        "id": "YKKbBiuvgQiP"
      },
      "source": [
        "# test 1 :\n",
        "head(villes)"
      ],
      "execution_count": null,
      "outputs": []
    },
    {
      "cell_type": "code",
      "metadata": {
        "id": "__CxqtaDNNo7"
      },
      "source": [
        "# test 2 :\n",
        "head(villes,l=30)"
      ],
      "execution_count": null,
      "outputs": []
    },
    {
      "cell_type": "code",
      "metadata": {
        "id": "0HyPSD3tNNtO"
      },
      "source": [
        "# test 3 :\n",
        "head(personnes,5,12)"
      ],
      "execution_count": null,
      "outputs": []
    },
    {
      "cell_type": "code",
      "metadata": {
        "id": "PfQrOg0_NNxJ"
      },
      "source": [
        "# test 4 :\n",
        "head(personnes,5,7)\n"
      ],
      "execution_count": null,
      "outputs": []
    },
    {
      "cell_type": "code",
      "metadata": {
        "id": "kqwStBUqNg57"
      },
      "source": [
        "# test 5 :\n",
        "head([]) # n'affiche rien mais ne doit pas lever une exception"
      ],
      "execution_count": null,
      "outputs": []
    },
    {
      "cell_type": "code",
      "metadata": {
        "id": "ESgJA6K10bvz"
      },
      "source": [
        "# afficher tout (à éviter avec de grosses listes de dictionnaires)\n",
        "printLstDict(personnes,l=12)"
      ],
      "execution_count": null,
      "outputs": []
    },
    {
      "cell_type": "markdown",
      "metadata": {
        "id": "SZj52mm7ho4_"
      },
      "source": [
        "<font color=\"orange\" size=\"4\">➽ écrire une fonction recherche(lstDict,cle,val)</font>\n",
        "\n",
        "qui renvoie une listes de dictionnaires contenant les enregistrements ou la cle à la valeur val"
      ]
    },
    {
      "cell_type": "code",
      "metadata": {
        "id": "KFkOSNJYho5C"
      },
      "source": [
        "def recherche(lstDict:list , cle: str , val:str ) -> list :\n",
        "    '''\n",
        "    Entrées : \n",
        "        lstDict : une liste de dictionnaires\n",
        "        cle : nom (str) d'une colonne (cle des dictionnaires)\n",
        "        val : val (str) recherchée\n",
        "    Sortie : la liste des dictionnaires d qui satisfont la recherche d[cle] = val\n",
        "    '''\n",
        "    pass"
      ],
      "execution_count": null,
      "outputs": []
    },
    {
      "cell_type": "markdown",
      "metadata": {
        "id": "k4gEdvcIho5D"
      },
      "source": [
        "✅ vérification"
      ]
    },
    {
      "cell_type": "code",
      "metadata": {
        "id": "liACnzrUho5E"
      },
      "source": [
        "assert recherche(personnes,'nom','Lenard') == [{'age': '17', 'nom': 'Lenard', 'prenom': 'Michel'}, {'age': '15', 'nom': 'Lenard', 'prenom': 'Georges'}]"
      ],
      "execution_count": null,
      "outputs": []
    },
    {
      "cell_type": "markdown",
      "metadata": {
        "id": "Su3phPDPfxE5"
      },
      "source": [
        "<font color=\"orange\" size=\"4\">➽ utiliser recherche</font>\n",
        "\n",
        "<font color=\"orange\" size=\"4\">1) Créer une liste **nantes** qui contient la listes des villes dont le nom est Nantes</font>"
      ]
    },
    {
      "cell_type": "code",
      "metadata": {
        "id": "1w5foljNNv4j"
      },
      "source": [
        "nantes = ....\n",
        "\n",
        "# affichage\n",
        "printLstDict(nantes,20)"
      ],
      "execution_count": null,
      "outputs": []
    },
    {
      "cell_type": "code",
      "metadata": {
        "id": "p8JeaUJVNwCN"
      },
      "source": [
        "head(nantes)"
      ],
      "execution_count": null,
      "outputs": []
    },
    {
      "cell_type": "markdown",
      "metadata": {
        "id": "NJxA9FLXgPVF"
      },
      "source": [
        "<font color=\"orange\" size=\"4\">2) Afficher la liste des villes dont le nom est Lille</font>"
      ]
    },
    {
      "cell_type": "code",
      "metadata": {
        "id": "GspZN6qyNwLI"
      },
      "source": [
        "# sur une seule ligne !"
      ],
      "execution_count": null,
      "outputs": []
    },
    {
      "cell_type": "markdown",
      "metadata": {
        "id": "1bHupnTIgf95"
      },
      "source": [
        "<font color=\"orange\" size=\"4\">3) Afficher la liste des villes dont le nom est AAA</font>"
      ]
    },
    {
      "cell_type": "code",
      "metadata": {
        "id": "R_sZSmHKNwUO"
      },
      "source": [
        "# sur une seule ligne !"
      ],
      "execution_count": null,
      "outputs": []
    },
    {
      "cell_type": "markdown",
      "metadata": {
        "id": "uVqMs_e9fnmM"
      },
      "source": [
        "<font color=\"orange\" size=\"4\">4) afficher la listes personnes dont le nom est Lenard</font>"
      ]
    },
    {
      "cell_type": "code",
      "metadata": {
        "id": "KZOQyQ3jhiWp"
      },
      "source": [
        "# créer la liste lesLenard puis l'afficher\n",
        "pass\n"
      ],
      "execution_count": null,
      "outputs": []
    },
    {
      "cell_type": "markdown",
      "metadata": {
        "id": "IkWl5yHynNgh"
      },
      "source": [
        "<font color=\"orange\" size=\"4\">➽ écrire une fonction rechercheIntMoreThan(lstDict,cle,val)</font>\n",
        "\n",
        "qui renvoi une listes de dictionnaires contenant les enregistrements ou la valeur de cle > val\n",
        "\n",
        "(on convertira en integer les valeurs)"
      ]
    },
    {
      "cell_type": "code",
      "metadata": {
        "id": "2XeAMT5lnNgj"
      },
      "source": [
        "def rechercheIntMoreThan( lstDict:list , cle:str , val:str ) -> list :\n",
        "    '''\n",
        "    Entrées : \n",
        "        lstDict : une liste de dictionnaires\n",
        "        cle : nom (str) d'une colonne (cle des dictionnaires)\n",
        "        val : val (str) recherchée\n",
        "    Sortie : la liste des dictionnaires d qui satisfont la recherche d[cle] > val\n",
        "    avec une comparaison sur des int()\n",
        "    '''\n",
        "    pass"
      ],
      "execution_count": null,
      "outputs": []
    },
    {
      "cell_type": "markdown",
      "metadata": {
        "id": "ZEksoE2cnNgl"
      },
      "source": [
        "✅ test"
      ]
    },
    {
      "cell_type": "code",
      "metadata": {
        "colab": {
          "base_uri": "https://localhost:8080/"
        },
        "id": "fY1P8h0vnNgm",
        "outputId": "9eebb1c6-eebd-42e6-cef1-c12529bec5a1"
      },
      "source": [
        "more300k = rechercheIntMoreThan(villes,'nb_hab_2012',300000)\n",
        "printLstDict(more300k,20)"
      ],
      "execution_count": null,
      "outputs": [
        {
          "output_type": "stream",
          "text": [
            "dep                 nom                 cp                  nb_hab_2010         nb_hab_1999         nb_hab_2012         dens                surf                long                lat                 alt_min             alt_max             \n",
            "------------------------------------------------------------------------------------------------------------------------------------------------------------------------------------------------------------------------------------------------\n",
            "6                   Nice                06000-06100-06200-0 343304              343123              344900              4773                71.92               7.25                43.7                0                   520                 \n",
            "13                  Marseille           13001-13002-13003-1 850726              797491              851400              3535                240.62              5.37639             43.2967             0                   640                 \n",
            "31                  Toulouse            31000-31100-31200-3 441802              390301              439600              3734                118.3               1.43333             43.6                115                 263                 \n",
            "69                  Lyon                69001-69002-69003-6 484344              445274              474900              10117               47.87               4.84139             45.7589             162                 312                 \n",
            "75                  Paris               75001-75002-75003-7 2243833             2125851             2211000             21288               105.4               2.34445             48.86               27                  127                 \n",
            "\n"
          ],
          "name": "stdout"
        }
      ]
    },
    {
      "cell_type": "markdown",
      "metadata": {
        "id": "nn6GsKp7occp"
      },
      "source": [
        "<font color=\"orange\" size=\"4\">➽ écrire une fonction rechercheMoreThan(lstDict,cle,val)</font>\n",
        "\n",
        "qui renvoi une listes de dictionnaires contenant les enregistrements ou la valeur de cle > val\n",
        "\n",
        "(cette fois, on ne convertira pas en integer les valeurs)"
      ]
    },
    {
      "cell_type": "code",
      "metadata": {
        "id": "FuaTlY5MocdI"
      },
      "source": [
        "def rechercheMoreThan( lstDict:list , cle:str , val:str ) -> list :\n",
        "    '''\n",
        "    Entrées : \n",
        "        lstDict : une liste de dictionnaires\n",
        "        cle : nom (str) d'une colonne (cle des dictionnaires)\n",
        "        val : val (str) recherchée\n",
        "    Sortie : la liste des dictionnaires d qui satisfont la recherche d[cle] > val\n",
        "    avec une comparaison sur des str\n",
        "    '''\n",
        "    pass"
      ],
      "execution_count": null,
      "outputs": []
    },
    {
      "cell_type": "markdown",
      "metadata": {
        "id": "AAd-KbSbocdK"
      },
      "source": [
        "✅ test"
      ]
    },
    {
      "cell_type": "code",
      "metadata": {
        "colab": {
          "base_uri": "https://localhost:8080/"
        },
        "id": "5L2s0zI1ocdO",
        "outputId": "451beda0-2c14-4710-e82e-157d2b564042"
      },
      "source": [
        "more300k = rechercheMoreThan( villes , 'nb_hab_2012' , '300000' )\n",
        "head(more300k,20)\n",
        "size(more300k)"
      ],
      "execution_count": null,
      "outputs": [
        {
          "output_type": "stream",
          "text": [
            "dep                 nom                 cp                  nb_hab_2010         nb_hab_1999         nb_hab_2012         dens                surf                long                lat                 alt_min             alt_max             \n",
            "------------------------------------------------------------------------------------------------------------------------------------------------------------------------------------------------------------------------------------------------\n",
            "1                   Ozan                1190                618                 469                 500                 93                  6.6                 4.91667             46.3833             170                 205                 \n",
            "1                   Torcieu             1230                698                 643                 700                 65                  10.72               5.4                 45.9167             257                 782                 \n",
            "1                   Replonges           1620                3500                2841                3300                210                 16.6                4.88333             46.3                169                 207                 \n",
            "1                   Relevant            1990                466                 367                 400                 37                  12.38               4.95                46.0833             235                 282                 \n",
            "1                   Chaveyriat          1660                927                 810                 900                 54                  16.87               5.06667             46.1833             188                 260                 \n",
            "1                   Maillat             1430                668                 664                 700                 59                  11.31               5.55                46.1333             497                 825                 \n",
            "1                   Faramans            1800                681                 591                 600                 60                  11.22               5.11667             45.9                255                 306                 \n",
            "1                   Béon                1350                373                 364                 400                 36                  10.3                5.75                45.8333             228                 1412                \n",
            "1                   Nantua              1460                3713                3922                3600                290                 12.79               5.61667             46.15               427                 1125                \n",
            "1                   Chavannes-sur-Reyss 1190                680                 580                 700                 41                  16.55               5                   46.4333             175                 218                 \n",
            "1                   Charnoz-sur-Ain     1800                911                 808                 900                 137                 6.62                5.21667             45.8667             203                 244                 \n",
            "1                   Hauteville-Lompnes  1110                4044                3653                4200                80                  50.34               5.6                 45.9667             455                 1240                \n",
            "1                   Montréal-la-Cluse   1460                3457                3699                3500                269                 12.83               5.57084             46.1867             473                 960                 \n",
            "1                   Saint-Genis-Pouilly 1630                8914                6382                8400                912                 9.77                6.01667             46.25               419                 502                 \n",
            "1                   Chanoz-Châtenay     1400                706                 492                 700                 52                  13.42               5.03333             46.1833             194                 268                 \n",
            "1                   Revonnas            1250                788                 493                 700                 101                 7.75                5.33333             46.1667             255                 504                 \n",
            "1                   Condeissiat         1400                756                 649                 700                 34                  21.64               5.08333             46.1667             232                 268                 \n",
            "1                   Le Plantay          1330                540                 416                 500                 27                  19.96               5.08333             46.0167             267                 286                 \n",
            "1                   Vieu                1260                380                 311                 400                 58                  6.54                5.68333             45.9                280                 540                 \n",
            "1                   Bressolles          1360                709                 587                 700                 91                  7.73                5.1                 45.8667             205                 292                 \n"
          ],
          "name": "stdout"
        },
        {
          "output_type": "execute_result",
          "data": {
            "text/plain": [
              "(13195, 12)"
            ]
          },
          "metadata": {
            "tags": []
          },
          "execution_count": 190
        }
      ]
    },
    {
      "cell_type": "markdown",
      "metadata": {
        "id": "_UBfix9_pC9t"
      },
      "source": [
        "On a un petit souci là non ?\n",
        "\n",
        "Pouvez expliquer pourquoi Torcieu est affiché, avec ses 700 habitants ? 700 est il plus grand que 300000 ?"
      ]
    },
    {
      "cell_type": "markdown",
      "metadata": {
        "id": "B0r2Mz6JuHm6"
      },
      "source": [
        "<font color=\"orange\" size=\"4\">➽ écrire une fonction triLstDict(lstDict,cleTrie)</font>\n",
        "\n",
        "qui trie la liste de dictionnaires selon une cle de tri qui doit être écrite par ailleurs"
      ]
    },
    {
      "cell_type": "code",
      "metadata": {
        "id": "hRf2A_XBuHnE"
      },
      "source": [
        "def triLstDict( lstDict:list , cleTri) -> None:\n",
        "    '''\n",
        "    Procédure\n",
        "    Entrées : \n",
        "        lstDict : une liste de dictionnaires\n",
        "        cleTri : nom d'une clef de tri (fonction)\n",
        "    La liste triée selon la clef de tri (effet de bord)\n",
        "    '''\n",
        "    pass"
      ],
      "execution_count": null,
      "outputs": []
    },
    {
      "cell_type": "markdown",
      "metadata": {
        "id": "JdgFByOguHnF"
      },
      "source": [
        "✅ test"
      ]
    },
    {
      "cell_type": "code",
      "metadata": {
        "id": "EV32bwnmuHnF"
      },
      "source": [
        "# crée une cle_age permettant de trier personnes\n",
        "# puis triez et affichez le résultat"
      ],
      "execution_count": null,
      "outputs": []
    },
    {
      "cell_type": "markdown",
      "metadata": {
        "id": "AfLWiHflvT7E"
      },
      "source": [
        "<font color=\"orange\" size=\"4\">➽ modifier la fonction triLstDict(lstDict,cleTrie)</font>\n",
        "\n",
        "ajoutez un argumement reverse dont la valeur par défaut est False. Puis testez votre fonction modifiée en faisant un tri dans un sens et dans l'autre."
      ]
    },
    {
      "cell_type": "code",
      "metadata": {
        "id": "Vj_oJfLhvT7N"
      },
      "source": [
        "def triLstDict(lstDict,cleTri,reverse = False) :\n",
        "    '''\n",
        "    Procédure\n",
        "    Entrées : \n",
        "        lstDict : une liste de dictionnaires\n",
        "        cleTri : nom d'une clef de tri (fonction)\n",
        "        optionnel : reverse (True ou False)\n",
        "    La liste triée selon la clef de tri (effet de bord) par défut ordre croissant, \n",
        "    décroissant sir reverse est présent et égal à False\n",
        "    '''\n",
        "    pass"
      ],
      "execution_count": null,
      "outputs": []
    },
    {
      "cell_type": "markdown",
      "metadata": {
        "id": "ZruuqiWSvT7N"
      },
      "source": [
        "✅ test"
      ]
    },
    {
      "cell_type": "code",
      "metadata": {
        "id": "FCMCsdLmvT7N"
      },
      "source": [
        "# crée une cle_age permettant de trier personnes\n",
        "# puis triez et affichez le résultat en triant\n",
        "# successivement croissant et décroissant\n"
      ],
      "execution_count": null,
      "outputs": []
    },
    {
      "cell_type": "markdown",
      "metadata": {
        "id": "wqFNquf3-L9A"
      },
      "source": [
        "<center><font color=\"darkyellow' size=\"5\"><b>RETENIR</b></font>\n",
        "\n",
        "![image.png](data:image/png;base64,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)\n",
        "\n",
        "</center>"
      ]
    },
    {
      "cell_type": "markdown",
      "metadata": {
        "id": "UrHwTvOZVX5-"
      },
      "source": [
        "\n",
        "<center>\n",
        "\n",
        "---\n",
        "\n",
        "*Auteurs* :  **Jean-Louis Thirot - Mireille Coilhac**\n",
        "\n",
        "Publié sous licence CC BY-NC-SA\n",
        "\n",
        "\n",
        "---\n",
        "<a rel=\"license\" href=\"http://creativecommons.org/licenses/by-nc-sa/4.0/\"><img alt=\"Creative Commons License\" style=\"border-width:0\" width=\"200\" src=\"https://s2.qwant.com/thumbr/700x0/f/9/436dcce5e02185c0b2e1b0e7a969aa81d7b0438d0a7f2eaee89abb9661b70b/cc-by-nc-sa.svg_.png?u=http%3A%2F%2Fopensiddur.org%2Fwp-content%2Fuploads%2F2011%2F03%2Fcc-by-nc-sa.svg_.png&q=0&b=1&p=0&a=1\" /></a><br />This work is licensed under a <a rel=\"license\" href=\"http://creativecommons.org/licenses/by-nc-sa/4.0/\">Creative Commons Attribution-NonCommercial-ShareAlike 4.0 International License</a>. "
      ]
    }
  ]
}