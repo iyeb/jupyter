{
  "nbformat": 4,
  "nbformat_minor": 0,
  "metadata": {
    "colab": {
      "name": "CSV lecture requetes tris 4: Graphiques- 1ere  - des exemples.ipynb",
      "provenance": []
    },
    "kernelspec": {
      "display_name": "Python 3",
      "language": "python",
      "name": "python3"
    },
    "language_info": {
      "codemirror_mode": {
        "name": "ipython",
        "version": 3
      },
      "file_extension": ".py",
      "mimetype": "text/x-python",
      "name": "python",
      "nbconvert_exporter": "python",
      "pygments_lexer": "ipython3",
      "version": "3.7.6"
    }
  },
  "cells": [
    {
      "cell_type": "markdown",
      "metadata": {
        "id": "YPUUQGagcgr8"
      },
      "source": [
        "<center><font color=\"darkyellow\" size=\"4\"><b> ⚠️⚠️⚠️   &nbsp; &nbsp;! Pensez à faire une copie <u>dans votre drive</u> avant de commencer !  &nbsp; &nbsp;⚠️⚠️⚠️</b></font></center>"
      ]
    },
    {
      "cell_type": "markdown",
      "metadata": {
        "id": "hBMNzssRAPWc"
      },
      "source": [
        "<center><font color=\"orange\" size=\"6\"><b>2- Les données structurées au format CSV \n",
        "\n",
        "Lecture, requêtes et Tris</b></font></center>\n"
      ]
    },
    {
      "cell_type": "markdown",
      "metadata": {
        "id": "PFO58Ec5q9nx"
      },
      "source": [
        "\n",
        "\n",
        "---\n",
        "\n",
        "<center><font color=\"orange\" size=\"6\"><b>Graphiques</b></font></center>\n",
        "\n",
        "\n",
        "---\n",
        "\n"
      ]
    },
    {
      "cell_type": "markdown",
      "metadata": {
        "id": "TIrvpmMgrC-5"
      },
      "source": [
        "⏬ Téléchargez maintenant le fichier [villes.csv](https://drive.google.com/file/d/1Zi_spru-r9J1TMTiT8lw18wTNya8hClw/view?usp=sharing) puis importez le dans la session. Il est trop volumineux pour un affichage rapide.... vous allez devoir travailler dessus pour savoir ce qu'il contient !\n",
        "\n",
        "Nous reprenons la fonction readCSV du 1er TP"
      ]
    },
    {
      "cell_type": "code",
      "metadata": {
        "id": "QqPUDQSsSoT3"
      },
      "source": [
        "import csv\n",
        "def readCSV( filename:str ) -> list :\n",
        "    '''\n",
        "    Entrée : nom d'un fichier CSV\n",
        "    Sortie : la fonction renvoie les données lues dans une liste de dictionnaires\n",
        "    '''\n",
        "    with open(filename, mode = \"r\" , encoding='utf-8' , newline = '') as csvFile :\n",
        "        reader = csv.DictReader(csvFile)\n",
        "        lu = [dict(ligne) for ligne in reader]\n",
        "    print('nombre d\\'enregistrements lus : ',len(lu) )\n",
        "    return lu\n",
        "    "
      ],
      "execution_count": null,
      "outputs": []
    },
    {
      "cell_type": "markdown",
      "metadata": {
        "id": "HIOwVFld753F"
      },
      "source": [
        "<font color=\"orange\" size=\"4\">➽ Lire villes.csv et  créer la liste <u>*villes*</u> en utilisant notre fonction readCSV() :</font>"
      ]
    },
    {
      "cell_type": "code",
      "metadata": {
        "colab": {
          "base_uri": "https://localhost:8080/"
        },
        "id": "UEUVZCH97MBQ",
        "outputId": "a2e0b116-11b5-4ac7-c3a7-d5825bbc3ad4"
      },
      "source": [
        "# Avec la fonction readCSV() \n",
        "help(readCSV)\n",
        "villes = readCSV('villes.csv')"
      ],
      "execution_count": null,
      "outputs": [
        {
          "output_type": "stream",
          "text": [
            "Help on function readCSV in module __main__:\n",
            "\n",
            "readCSV(filename: str) -> list\n",
            "    Entrée : nom d'un fichier CSV\n",
            "    Sortie : la fonction renvoie les données lues dans une liste de dictionnaires\n",
            "\n",
            "nombre d'enregistrements lus :  36700\n"
          ],
          "name": "stdout"
        }
      ]
    },
    {
      "cell_type": "markdown",
      "metadata": {
        "id": "odcVYuHIGkBK"
      },
      "source": [
        "<font color=\"orange\" size=\"6\">➽ Modifier le type d'une ou plusieurs colonnes</font>\n",
        "\n",
        "Dans l'exemple précédent, on a converti en int puis reconverti en str.\n",
        "\n",
        "C'est un peu lourd et finalement, il serait plutôt judicieux de convertir en int ou float les colonnes numériques.\n",
        "\n",
        "Téléchargez puis importez le fichier libCSV0.py \n",
        "\n",
        "Il contient une librairie (très limitée) de fonctions de traitement de listes de dictionnaires. Nous examinerons son contenu ultérieurement, nous allons d'abord voir comment utiliser une librairie en s'appuyant seulement sur help()"
      ]
    },
    {
      "cell_type": "code",
      "metadata": {
        "colab": {
          "base_uri": "https://localhost:8080/"
        },
        "id": "vphOFGAeHnOE",
        "outputId": "077fa382-76d1-49b8-8cb9-a8089cb7e40e"
      },
      "source": [
        "from  libCSV0 import *\n",
        "\n",
        "help(setColType)"
      ],
      "execution_count": null,
      "outputs": [
        {
          "output_type": "stream",
          "text": [
            "Help on function setColType in module libCSV0:\n",
            "\n",
            "setColType(lstDict: list, cle: str, typeOf: type) -> None\n",
            "    Entrée : lstDict (liste de dictionnaire)\n",
            "    cle : nom d'une clef des dictionnaires (str)\n",
            "    typeOf : int, float, ou str : type dans lequel on souhaite encoder la colonne\n",
            "    La fonction modifie par effet de bord la liste lstDict\n",
            "    Le type d'une seule colonne est modifiée\n",
            "    \n",
            "    \n",
            "    exemple :\n",
            "    >>> neveux = [ {\"nom\" : \"Riri\" , \"age\" : \"12\" , \"argent\":\"41.3\"} ,\n",
            "                {\"nom\" : \"Fifi\" , \"age\" : \"15\" , \"argent\":\"21.0\"} ,\n",
            "                {\"nom\" : \"Loulou\" , \"age\" : \"13\" , \"argent\":\"11.5\"}]\n",
            "    >>> lstTypes = { 'age' : int , 'argent' : float }\n",
            "    >>> setColsTypes(neveux , 'age' , int )\n",
            "    [ {\"nom\" : \"Riri\" , \"age\" : 12 , \"argent\":\"41.3\"} ,\n",
            "                {\"nom\" : \"Fifi\" , \"age\" : 15 , \"argent\":\"21.0\"} ,\n",
            "                {\"nom\" : \"Loulou\" , \"age\" : 13 , \"argent\":\"11.5\"}]\n",
            "                \n",
            "    # les éléments de la colonne age sont maintenant de types int.\n",
            "\n"
          ],
          "name": "stdout"
        }
      ]
    },
    {
      "cell_type": "markdown",
      "metadata": {
        "id": "5y2-b3T5Id0L"
      },
      "source": [
        "<font color=\"orange\" size=\"4\">➽ Utilisez la fonction setColType pour convertir en int une colonne</font>\n",
        "\n",
        "Convertir en int lES colonnes nb_hab_1999, nb_hab_2010 et nb_hab_2012\n",
        "\n"
      ]
    },
    {
      "cell_type": "code",
      "metadata": {
        "id": "TEx9oEbxId0M"
      },
      "source": [
        "setColType( villes , 'nb_hab_1999' , int )\n",
        "setColType( villes , 'nb_hab_2010' , int )\n",
        "setColType( villes , 'nb_hab_2012' , int )"
      ],
      "execution_count": null,
      "outputs": []
    },
    {
      "cell_type": "code",
      "metadata": {
        "id": "a0BlajqoMaPX"
      },
      "source": [
        "assert type(villes[0]['nb_hab_1999']) == int"
      ],
      "execution_count": null,
      "outputs": []
    },
    {
      "cell_type": "markdown",
      "metadata": {
        "id": "XLipVDWablEf"
      },
      "source": [
        "<font color=\"orange\" size=\"5\"><b><center>Quelques graphiques</center></b></font>"
      ]
    },
    {
      "cell_type": "markdown",
      "metadata": {
        "id": "Isj4jMLYNal7"
      },
      "source": [
        "Gérer des grandes quantités de données, extraire des informations, effectuer des calculs etc...\n",
        "\n",
        "C'est très bien, mais la présentation de grandes quantités de données demande souvent de recourir à des graphiques. \n",
        "\n",
        "Ci-dessous, quelques graphiques pour vous familiariser avec la librairie matplotlib."
      ]
    },
    {
      "cell_type": "code",
      "metadata": {
        "colab": {
          "base_uri": "https://localhost:8080/",
          "height": 293
        },
        "id": "6lqYKzkHb00K",
        "outputId": "71797659-40fe-4609-b929-fc82d7bd84e0"
      },
      "source": [
        "# une courbe montrant la population de Paris en 1999, 2010 et 2012\n",
        "\n",
        "# en abcisse :\n",
        "annee = [1999,2010,2012]\n",
        "# en ordonnée : créez la liste [n99,n2010,n2012] \n",
        "# avec le nombre d'hab chaque année à Paris\n",
        "Paris = recherche(villes,'nom','Paris')[0]\n",
        "habParis = [ Paris[c] for c in ['nb_hab_1999','nb_hab_2010','nb_hab_2012']]\n",
        "\n",
        "# graphique\n",
        "import matplotlib.pyplot as plt\n",
        "plt.plot(annee, habParis, \"ro-\",label='Paris') \n",
        "# ro- signifie : (r)ed+(o)pen circle+(-)trait continu\n",
        "plt.legend()\n",
        "\n",
        "plt.show()"
      ],
      "execution_count": null,
      "outputs": [
        {
          "output_type": "stream",
          "text": [
            "[2125851, 2243833, 2211000]\n"
          ],
          "name": "stdout"
        },
        {
          "output_type": "display_data",
          "data": {
            "image/png": "[encoded data removed]",
            "text/plain": [
              "<Figure size 432x288 with 1 Axes>"
            ]
          },
          "metadata": {
            "tags": [],
            "needs_background": "light"
          }
        }
      ]
    },
    {
      "cell_type": "code",
      "metadata": {
        "colab": {
          "base_uri": "https://localhost:8080/",
          "height": 276
        },
        "id": "f5hxVYBxgMJ9",
        "outputId": "808c2b70-e2b5-446b-f5e5-ee8e488aa9ad"
      },
      "source": [
        "# une courbe montrant le nombre d'ha des grandes villes\n",
        "# en abcisse :\n",
        "lstV = ['Paris','Lyon','Marseille','Lille','Toulouse','Nice']\n",
        "nomVilles =  [ v['nom'] for v in villes if v['nom'] in lstV ]\n",
        "# en ordonnée : créez la liste des nb ha de ces villes \n",
        "# avec le nombre d'hab chaque année à Paris\n",
        "nb_hab12 = [ int(v['nb_hab_2012']) for v in villes if v['nom'] in lstV ]\n",
        "nb_hab99 = [ int(v['nb_hab_1999']) for v in villes if v['nom'] in lstV ]\n",
        "\n",
        "# graphique\n",
        "import matplotlib.pyplot as plt\n",
        "plt.plot(nomVilles, nb_hab12, \"gd--\",label='nb d\\'habitants 2012') \n",
        "plt.plot(nomVilles, nb_hab99, \"rd--\",label='nb d\\'habitants 2010') \n",
        "plt.legend()\n",
        "# gd-- signifie : (g)reeb+(d)iamonds + (--)trait pointillé\n",
        "plt.show()"
      ],
      "execution_count": null,
      "outputs": [
        {
          "output_type": "display_data",
          "data": {
            "image/png": "[encoded data removed]",
            "text/plain": [
              "<Figure size 432x288 with 1 Axes>"
            ]
          },
          "metadata": {
            "tags": [],
            "needs_background": "light"
          }
        }
      ]
    },
    {
      "cell_type": "code",
      "metadata": {
        "colab": {
          "base_uri": "https://localhost:8080/",
          "height": 308
        },
        "id": "EpoBLZxGhdTJ",
        "outputId": "ee15d3dd-7c24-4614-e6d0-020afa038513"
      },
      "source": [
        "# Un diagramme en baton serait plus indiqué :\n",
        "x = [i for i in range(len(lstV))] # abcisses des batons\n",
        "height = nb_hab12 # hauteur des batons\n",
        "width = 0.8 # largeur des batons\n",
        "names = nomVilles # etiquettes en abcisses\n",
        "plt.bar(x, height, width, color='red' , label=\"2012\") # dessine les batons\n",
        "height = nb_hab99\n",
        "plt.bar(x, height, width, color='blue' , label=\"1999\") # dessine les batons\n",
        "\n",
        "plt.xticks(x, names, rotation=40) # affiche les noms des villes\n",
        "plt.legend()\n",
        "plt.title('titre du dessin')\n",
        "plt.show()"
      ],
      "execution_count": null,
      "outputs": [
        {
          "output_type": "display_data",
          "data": {
            "image/png": "[encoded data removed]",
            "text/plain": [
              "<Figure size 432x288 with 1 Axes>"
            ]
          },
          "metadata": {
            "tags": [],
            "needs_background": "light"
          }
        }
      ]
    },
    {
      "cell_type": "code",
      "metadata": {
        "colab": {
          "base_uri": "https://localhost:8080/",
          "height": 308
        },
        "id": "ePGixEU0kLsk",
        "outputId": "2973cdd8-8467-48c3-d752-eba4f24d6eb2"
      },
      "source": [
        "# Ou des batons cote à cote :\n",
        "x12 = [i for i in range(len(lstV))] # abcisses des batons\n",
        "height = nb_hab12 # hauteur des batons\n",
        "width = 0.3 # largeur des batons\n",
        "names = nomVilles # etiquettes en abcisses\n",
        "plt.bar(x12, height, width, color='red' , label=\"2012\") # dessine les batons\n",
        "x99 = [i+0.3 for i in range(len(lstV))] # abcisses des batons\n",
        "height = nb_hab99\n",
        "plt.bar(x99, height, width, color='blue' , label=\"1999\") # dessine les batons\n",
        "\n",
        "plt.xticks(x12, names, rotation=40) # affiche les noms des villes\n",
        "plt.legend()\n",
        "plt.title('titre du dessin')\n",
        "plt.show()"
      ],
      "execution_count": null,
      "outputs": [
        {
          "output_type": "display_data",
          "data": {
            "image/png": "[encoded data removed]",
            "text/plain": [
              "<Figure size 432x288 with 1 Axes>"
            ]
          },
          "metadata": {
            "tags": [],
            "needs_background": "light"
          }
        }
      ]
    },
    {
      "cell_type": "code",
      "metadata": {
        "colab": {
          "base_uri": "https://localhost:8080/",
          "height": 320
        },
        "id": "9_bf6r6qmHoK",
        "outputId": "d8825d4c-ae66-4d86-e6ef-dd2167cf1b4e"
      },
      "source": [
        "# un autre :\n",
        "n100 = len([v['nb_hab_2012'] for v in villes if v['nb_hab_2012'] <= 100])\n",
        "n1000 = len([v['nb_hab_2012'] for v in villes if 100 <v['nb_hab_2012'] <= 1000])\n",
        "n5000 = len([v['nb_hab_2012'] for v in villes if 1000 <v['nb_hab_2012'] <= 5000])\n",
        "n10000 = len([v['nb_hab_2012'] for v in villes if 5000 <v['nb_hab_2012'] <= 10000])\n",
        "nplus = len([v['nb_hab_2012'] for v in villes if 10000 <v['nb_hab_2012'] ])\n",
        "x= [1,2,3,4,5]\n",
        "names = ['<100','100-1000','1000-5000','5000-10000','>10000']\n",
        "y = [n100,n1000,n5000,n10000,nplus]\n",
        "plt.bar(x, y, width, color='red' , label=\"nombre de commune\\n selon la taille (2012)\") # dessine les batons\n",
        "plt.xticks(x, names, rotation=40) # affiche les noms des villes\n",
        "plt.legend()"
      ],
      "execution_count": null,
      "outputs": [
        {
          "output_type": "execute_result",
          "data": {
            "text/plain": [
              "<matplotlib.legend.Legend at 0x7f58fdb81690>"
            ]
          },
          "metadata": {
            "tags": []
          },
          "execution_count": 29
        },
        {
          "output_type": "display_data",
          "data": {
            "image/png": "[encoded data removed]",
            "text/plain": [
              "<Figure size 432x288 with 1 Axes>"
            ]
          },
          "metadata": {
            "tags": [],
            "needs_background": "light"
          }
        }
      ]
    },
    {
      "cell_type": "markdown",
      "metadata": {
        "id": "UrHwTvOZVX5-"
      },
      "source": [
        "\n",
        "<center>\n",
        "\n",
        "---\n",
        "\n",
        "**Auteur** Jean-Louis Thirot - Mireille Coilhac\n",
        "\n",
        "Publié sous licence CC BY-NC-SA\n",
        "\n",
        "\n",
        "---\n",
        "<a rel=\"license\" href=\"http://creativecommons.org/licenses/by-nc-sa/4.0/\"><img alt=\"Creative Commons License\" style=\"border-width:0\" width=\"200\" src=\"https://s2.qwant.com/thumbr/700x0/f/9/436dcce5e02185c0b2e1b0e7a969aa81d7b0438d0a7f2eaee89abb9661b70b/cc-by-nc-sa.svg_.png?u=http%3A%2F%2Fopensiddur.org%2Fwp-content%2Fuploads%2F2011%2F03%2Fcc-by-nc-sa.svg_.png&q=0&b=1&p=0&a=1\" /></a><br />This work is licensed under a <a rel=\"license\" href=\"http://creativecommons.org/licenses/by-nc-sa/4.0/\">Creative Commons Attribution-NonCommercial-ShareAlike 4.0 International License</a>. "
      ]
    }
  ]
}